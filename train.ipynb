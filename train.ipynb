{
 "cells": [
  {
   "cell_type": "code",
   "execution_count": 1,
   "id": "578dfb08-f0e9-4c8f-a2a7-25d860a043f5",
   "metadata": {},
   "outputs": [
    {
     "name": "stdout",
     "output_type": "stream",
     "text": [
      "CUDA available: True\n",
      "Device count: 1\n",
      "Current device: 0\n",
      "Device name: NVIDIA GeForce RTX 3070\n"
     ]
    }
   ],
   "source": [
    "# Train on RAF-DB\n",
    "import torch\n",
    "print(\"CUDA available:\", torch.cuda.is_available())\n",
    "print(\"Device count:\", torch.cuda.device_count())\n",
    "print(\"Current device:\", torch.cuda.current_device())\n",
    "print(\"Device name:\", torch.cuda.get_device_name(0) if torch.cuda.is_available() else \"None\")\n",
    "torch.cuda.empty_cache()\n"
   ]
  },
  {
   "cell_type": "code",
   "execution_count": 2,
   "id": "44cb9b64-fcce-4d70-8366-38c915ab2228",
   "metadata": {},
   "outputs": [
    {
     "name": "stdout",
     "output_type": "stream",
     "text": [
      "Using cuda device\n",
      "80,238,599 total parameters.\n"
     ]
    }
   ],
   "source": [
    "import torch\n",
    "import pandas as pd\n",
    "import numpy as np\n",
    "from tqdm import tqdm\n",
    "\n",
    "from torch.utils.data import DataLoader\n",
    "from torchvision import transforms\n",
    "import torch.optim as optim\n",
    "import matplotlib.pyplot as plt\n",
    "\n",
    "from approach.ResEmoteNet import ResEmoteNet\n",
    "\n",
    "device = torch.device(\"cuda\" if torch.cuda.is_available() else \"cpu\")\n",
    "print(f\"Using {device} device\")\n",
    "\n",
    "# Transform the dataset\n",
    "transform = transforms.Compose([\n",
    "    transforms.Resize((64, 64)),\n",
    "    transforms.Grayscale(num_output_channels=3),\n",
    "    transforms.RandomHorizontalFlip(),\n",
    "    transforms.ToTensor(),\n",
    "    transforms.Normalize(\n",
    "        mean=[0.485, 0.456, 0.406],\n",
    "        std=[0.229, 0.224, 0.225]\n",
    "    )\n",
    "])\n",
    "# Load the model\n",
    "model = ResEmoteNet()\n",
    "model.to('cuda')\n",
    "# Print the number of parameters\n",
    "total_params = sum(p.numel() for p in model.parameters())\n",
    "print(f'{total_params:,} total parameters.')"
   ]
  },
  {
   "cell_type": "code",
   "execution_count": 3,
   "id": "4e431e27-8524-4267-be4c-ac63e28c4b7d",
   "metadata": {},
   "outputs": [
    {
     "name": "stdout",
     "output_type": "stream",
     "text": [
      "Train batch: Images shape torch.Size([16, 3, 64, 64]), Labels shape torch.Size([16])\n"
     ]
    }
   ],
   "source": [
    "import os\n",
    "import torch\n",
    "import pandas as pd\n",
    "from PIL import Image\n",
    "from torch.utils.data import Dataset, DataLoader\n",
    "from torchvision import transforms\n",
    "\n",
    "class RafDataset(Dataset):\n",
    "    def __init__(self, csv_file, img_dir, transform=None):\n",
    "        \"\"\"\n",
    "        Args:\n",
    "            csv_file (str): Path to the CSV file with image names and labels.\n",
    "            img_dir (str): Directory where images are stored.\n",
    "            transform (callable, optional): Transformations to apply to the images.\n",
    "        \"\"\"\n",
    "        self.labels = pd.read_csv(csv_file, header=None, names=[\"image\", \"label\"])\n",
    "        self.img_dir = img_dir\n",
    "        self.transform = transform\n",
    "\n",
    "    def __len__(self):\n",
    "        return len(self.labels)\n",
    "\n",
    "    def __getitem__(self, idx):\n",
    "        if isinstance(idx, torch.Tensor):\n",
    "            idx = idx.item()\n",
    "        \n",
    "        # Get image path and label\n",
    "        img_name = os.path.join(self.img_dir, self.labels.iloc[idx, 0])\n",
    "        image = Image.open(img_name).convert(\"RGB\")\n",
    "        label = int(self.labels.iloc[idx, 1]) - 1  # Adjust label to start from 0\n",
    "        \n",
    "        if self.transform:\n",
    "            image = self.transform(image)\n",
    "        \n",
    "        return image, label\n",
    "\n",
    "\n",
    "def load_data(base_dir, batch_size=16, transform=None):\n",
    "    \"\"\"\n",
    "    Function to load train and test datasets and return their DataLoaders.\n",
    "\n",
    "    Args:\n",
    "        base_dir (str): Base directory containing 'raf-db' folder.\n",
    "        batch_size (int): Batch size for the DataLoader.\n",
    "        transform (callable, optional): Transformations to apply to the images.\n",
    "\n",
    "    Returns:\n",
    "        tuple: Train DataLoader, Test DataLoader\n",
    "    \"\"\"\n",
    "    # Paths to CSV and image directories\n",
    "    train_csv = os.path.join(base_dir, \"raf-db\", \"train_labels.csv\")\n",
    "    test_csv = os.path.join(base_dir, \"raf-db\", \"test_labels.csv\")\n",
    "    train_img_dir = os.path.join(base_dir, \"raf-db\", \"DATASET\", \"train\")\n",
    "    test_img_dir = os.path.join(base_dir, \"raf-db\", \"DATASET\", \"test\")\n",
    "    \n",
    "    # Datasets\n",
    "    train_dataset = RafDataset(csv_file=train_csv, img_dir=train_img_dir, transform=transform)\n",
    "    test_dataset = RafDataset(csv_file=test_csv, img_dir=test_img_dir, transform=transform)\n",
    "    \n",
    "    # DataLoaders\n",
    "    train_loader = DataLoader(train_dataset, batch_size=batch_size, shuffle=True)\n",
    "    test_loader = DataLoader(test_dataset, batch_size=batch_size, shuffle=False)\n",
    "    \n",
    "    return train_loader, test_loader\n",
    "\n",
    "\n",
    "base_dir = \"/workspace/\"\n",
    "train_loader, test_loader = load_data(base_dir=base_dir, batch_size=16, transform=transform)\n",
    "\n",
    "# Inspect a batch\n",
    "train_images, train_labels = next(iter(train_loader))\n",
    "print(f\"Train batch: Images shape {train_images.shape}, Labels shape {train_labels.shape}\")"
   ]
  },
  {
   "cell_type": "code",
   "execution_count": 4,
   "id": "5364fb71-0d2c-4e2a-97d4-17843db33ae3",
   "metadata": {},
   "outputs": [],
   "source": [
    "# Hyperparameters\n",
    "criterion = torch.nn.CrossEntropyLoss()\n",
    "optimizer = optim.SGD(model.parameters(), lr=0.001, momentum=0.9, weight_decay=1e-4)\n",
    "\n",
    "patience = 15\n",
    "best_val_acc = 0\n",
    "patience_counter = 0\n",
    "epoch_counter = 0\n",
    "\n",
    "num_epochs = 80\n",
    "\n",
    "train_losses = []\n",
    "val_losses = []\n",
    "train_accuracies = []\n",
    "val_accuracies = []\n",
    "test_losses = []\n",
    "test_accuracies = []"
   ]
  },
  {
   "cell_type": "code",
   "execution_count": 7,
   "id": "071d67c5-4ee3-48f7-b531-9f8761cbf0d9",
   "metadata": {},
   "outputs": [
    {
     "name": "stderr",
     "output_type": "stream",
     "text": [
      "Epoch 1/80: 100% 767/767 [00:30<00:00, 24.76it/s]\n"
     ]
    },
    {
     "name": "stdout",
     "output_type": "stream",
     "text": [
      "Epoch 1, Train Loss: 1.087017729159595, Train Accuracy: 0.6216282291581778, Test Loss: 0.8845142349988843, Test Accuracy: 0.6945893089960886\n"
     ]
    },
    {
     "name": "stderr",
     "output_type": "stream",
     "text": [
      "Epoch 2/80: 100% 767/767 [00:30<00:00, 24.81it/s]\n"
     ]
    },
    {
     "name": "stdout",
     "output_type": "stream",
     "text": [
      "Epoch 2, Train Loss: 0.9644269292015762, Train Accuracy: 0.6658789014750224, Test Loss: 0.8256875798106194, Test Accuracy: 0.7115384615384616\n"
     ]
    },
    {
     "name": "stderr",
     "output_type": "stream",
     "text": [
      "Epoch 3/80: 100% 767/767 [00:30<00:00, 24.77it/s]\n"
     ]
    },
    {
     "name": "stdout",
     "output_type": "stream",
     "text": [
      "Epoch 3, Train Loss: 0.8910887183468531, Train Accuracy: 0.6921196316518621, Test Loss: 0.7889967036511129, Test Accuracy: 0.7209908735332464\n"
     ]
    },
    {
     "name": "stderr",
     "output_type": "stream",
     "text": [
      "Epoch 4/80: 100% 767/767 [00:30<00:00, 24.75it/s]\n"
     ]
    },
    {
     "name": "stdout",
     "output_type": "stream",
     "text": [
      "Epoch 4, Train Loss: 0.8169157281226564, Train Accuracy: 0.7188493195338603, Test Loss: 0.7316137193508135, Test Accuracy: 0.7516297262059974\n"
     ]
    },
    {
     "name": "stderr",
     "output_type": "stream",
     "text": [
      "Epoch 5/80: 100% 767/767 [00:31<00:00, 24.44it/s]\n"
     ]
    },
    {
     "name": "stdout",
     "output_type": "stream",
     "text": [
      "Epoch 5, Train Loss: 0.763277100149003, Train Accuracy: 0.7392225572487979, Test Loss: 0.6947034677432384, Test Accuracy: 0.7594524119947849\n"
     ]
    },
    {
     "name": "stderr",
     "output_type": "stream",
     "text": [
      "Epoch 6/80: 100% 767/767 [00:33<00:00, 22.97it/s]\n"
     ]
    },
    {
     "name": "stdout",
     "output_type": "stream",
     "text": [
      "Epoch 6, Train Loss: 0.7058397647687944, Train Accuracy: 0.7577214570939613, Test Loss: 0.6905048097250983, Test Accuracy: 0.7526075619295959\n"
     ]
    },
    {
     "name": "stderr",
     "output_type": "stream",
     "text": [
      "Epoch 7/80: 100% 767/767 [00:33<00:00, 22.63it/s]\n"
     ]
    },
    {
     "name": "stdout",
     "output_type": "stream",
     "text": [
      "Epoch 7, Train Loss: 0.6647503855874983, Train Accuracy: 0.7714122728383995, Test Loss: 0.7188468074503666, Test Accuracy: 0.7477183833116037\n"
     ]
    },
    {
     "name": "stderr",
     "output_type": "stream",
     "text": [
      "Epoch 8/80: 100% 767/767 [00:32<00:00, 23.52it/s]\n"
     ]
    },
    {
     "name": "stdout",
     "output_type": "stream",
     "text": [
      "Epoch 8, Train Loss: 0.6176155658518941, Train Accuracy: 0.7847771167793985, Test Loss: 0.657769010392561, Test Accuracy: 0.7711864406779662\n"
     ]
    },
    {
     "name": "stderr",
     "output_type": "stream",
     "text": [
      "Epoch 9/80: 100% 767/767 [00:32<00:00, 23.56it/s]\n"
     ]
    },
    {
     "name": "stdout",
     "output_type": "stream",
     "text": [
      "Epoch 9, Train Loss: 0.5697051999116659, Train Accuracy: 0.8006682421970499, Test Loss: 0.6817085669220736, Test Accuracy: 0.7767275097783573\n"
     ]
    },
    {
     "name": "stderr",
     "output_type": "stream",
     "text": [
      "Epoch 10/80: 100% 767/767 [00:32<00:00, 23.49it/s]\n"
     ]
    },
    {
     "name": "stdout",
     "output_type": "stream",
     "text": [
      "Epoch 10, Train Loss: 0.5378556158757893, Train Accuracy: 0.8133811425311711, Test Loss: 0.7465469805174507, Test Accuracy: 0.7457627118644068\n"
     ]
    },
    {
     "name": "stderr",
     "output_type": "stream",
     "text": [
      "Epoch 11/80: 100% 767/767 [00:32<00:00, 23.43it/s]\n"
     ]
    },
    {
     "name": "stdout",
     "output_type": "stream",
     "text": [
      "Epoch 11, Train Loss: 0.494717976153674, Train Accuracy: 0.8316355635237552, Test Loss: 0.645142793529279, Test Accuracy: 0.7858539765319427\n"
     ]
    },
    {
     "name": "stderr",
     "output_type": "stream",
     "text": [
      "Epoch 12/80: 100% 767/767 [00:31<00:00, 24.58it/s]\n"
     ]
    },
    {
     "name": "stdout",
     "output_type": "stream",
     "text": [
      "Epoch 12, Train Loss: 0.4576829090287042, Train Accuracy: 0.8449189145138946, Test Loss: 0.6587181363235383, Test Accuracy: 0.7829204693611473\n"
     ]
    },
    {
     "name": "stderr",
     "output_type": "stream",
     "text": [
      "Epoch 13/80: 100% 767/767 [00:31<00:00, 24.73it/s]\n"
     ]
    },
    {
     "name": "stdout",
     "output_type": "stream",
     "text": [
      "Epoch 13, Train Loss: 0.43568622595308815, Train Accuracy: 0.8521717871404123, Test Loss: 0.7120803422876634, Test Accuracy: 0.7721642764015645\n"
     ]
    },
    {
     "name": "stderr",
     "output_type": "stream",
     "text": [
      "Epoch 14/80: 100% 767/767 [00:31<00:00, 24.74it/s]\n"
     ]
    },
    {
     "name": "stdout",
     "output_type": "stream",
     "text": [
      "Epoch 14, Train Loss: 0.39564940953600514, Train Accuracy: 0.8672479830494663, Test Loss: 0.6660508453011668, Test Accuracy: 0.7858539765319427\n"
     ]
    },
    {
     "name": "stderr",
     "output_type": "stream",
     "text": [
      "Epoch 15/80: 100% 767/767 [00:31<00:00, 24.65it/s]\n"
     ]
    },
    {
     "name": "stdout",
     "output_type": "stream",
     "text": [
      "Epoch 15, Train Loss: 0.36693287498986704, Train Accuracy: 0.8769456442017766, Test Loss: 0.6821997976779434, Test Accuracy: 0.7871577574967406\n"
     ]
    },
    {
     "name": "stderr",
     "output_type": "stream",
     "text": [
      "Epoch 16/80: 100% 767/767 [00:31<00:00, 24.70it/s]\n"
     ]
    },
    {
     "name": "stdout",
     "output_type": "stream",
     "text": [
      "Epoch 16, Train Loss: 0.3392793057289708, Train Accuracy: 0.8875397278135442, Test Loss: 0.7241238265366216, Test Accuracy: 0.7825945241199479\n"
     ]
    },
    {
     "name": "stderr",
     "output_type": "stream",
     "text": [
      "Epoch 17/80: 100% 767/767 [00:31<00:00, 24.71it/s]\n"
     ]
    },
    {
     "name": "stdout",
     "output_type": "stream",
     "text": [
      "Epoch 17, Train Loss: 0.31763863632263617, Train Accuracy: 0.8961779806046777, Test Loss: 0.7960295659237696, Test Accuracy: 0.7597783572359843\n"
     ]
    },
    {
     "name": "stderr",
     "output_type": "stream",
     "text": [
      "Epoch 18/80: 100% 767/767 [00:31<00:00, 24.70it/s]\n"
     ]
    },
    {
     "name": "stdout",
     "output_type": "stream",
     "text": [
      "Epoch 18, Train Loss: 0.28470875758973996, Train Accuracy: 0.9044902615923722, Test Loss: 0.6926093655686903, Test Accuracy: 0.7966101694915254\n"
     ]
    },
    {
     "name": "stderr",
     "output_type": "stream",
     "text": [
      "Epoch 19/80: 100% 767/767 [00:31<00:00, 24.72it/s]\n"
     ]
    },
    {
     "name": "stdout",
     "output_type": "stream",
     "text": [
      "Epoch 19, Train Loss: 0.2761262524958015, Train Accuracy: 0.9070165430690246, Test Loss: 0.7476989618153311, Test Accuracy: 0.7702086049543677\n"
     ]
    },
    {
     "name": "stderr",
     "output_type": "stream",
     "text": [
      "Epoch 20/80: 100% 767/767 [00:31<00:00, 24.63it/s]\n"
     ]
    },
    {
     "name": "stdout",
     "output_type": "stream",
     "text": [
      "Epoch 20, Train Loss: 0.2553282977559032, Train Accuracy: 0.9151658381549996, Test Loss: 0.7219057844001023, Test Accuracy: 0.7959582790091264\n"
     ]
    },
    {
     "name": "stderr",
     "output_type": "stream",
     "text": [
      "Epoch 21/80: 100% 767/767 [00:32<00:00, 23.28it/s]\n"
     ]
    },
    {
     "name": "stdout",
     "output_type": "stream",
     "text": [
      "Epoch 21, Train Loss: 0.2290722213738939, Train Accuracy: 0.9260044006193464, Test Loss: 0.7559587825586883, Test Accuracy: 0.7884615384615384\n"
     ]
    },
    {
     "name": "stderr",
     "output_type": "stream",
     "text": [
      "Epoch 22/80: 100% 767/767 [00:32<00:00, 23.33it/s]\n"
     ]
    },
    {
     "name": "stdout",
     "output_type": "stream",
     "text": [
      "Epoch 22, Train Loss: 0.2189541989973852, Train Accuracy: 0.9295085975063158, Test Loss: 0.7383140287226221, Test Accuracy: 0.7770534550195567\n"
     ]
    },
    {
     "name": "stderr",
     "output_type": "stream",
     "text": [
      "Epoch 23/80: 100% 767/767 [00:32<00:00, 23.31it/s]\n"
     ]
    },
    {
     "name": "stdout",
     "output_type": "stream",
     "text": [
      "Epoch 23, Train Loss: 0.20093750643314406, Train Accuracy: 0.9344796675087605, Test Loss: 0.7169132056515082, Test Accuracy: 0.8054106910039114\n"
     ]
    },
    {
     "name": "stderr",
     "output_type": "stream",
     "text": [
      "Epoch 24/80: 100% 767/767 [00:32<00:00, 23.31it/s]\n"
     ]
    },
    {
     "name": "stdout",
     "output_type": "stream",
     "text": [
      "Epoch 24, Train Loss: 0.18901704446712542, Train Accuracy: 0.9387173009534675, Test Loss: 0.7868366941820568, Test Accuracy: 0.7848761408083442\n"
     ]
    },
    {
     "name": "stderr",
     "output_type": "stream",
     "text": [
      "Epoch 25/80: 100% 767/767 [00:32<00:00, 23.26it/s]\n"
     ]
    },
    {
     "name": "stdout",
     "output_type": "stream",
     "text": [
      "Epoch 25, Train Loss: 0.1761842881119294, Train Accuracy: 0.9444218075136501, Test Loss: 0.8422754544493122, Test Accuracy: 0.7855280312907431\n"
     ]
    },
    {
     "name": "stderr",
     "output_type": "stream",
     "text": [
      "Epoch 26/80: 100% 767/767 [00:31<00:00, 24.07it/s]\n"
     ]
    },
    {
     "name": "stdout",
     "output_type": "stream",
     "text": [
      "Epoch 26, Train Loss: 0.16465704441871956, Train Accuracy: 0.9466221171868633, Test Loss: 0.8153696914926817, Test Accuracy: 0.7861799217731421\n"
     ]
    },
    {
     "name": "stderr",
     "output_type": "stream",
     "text": [
      "Epoch 27/80: 100% 767/767 [00:30<00:00, 24.94it/s]\n"
     ]
    },
    {
     "name": "stdout",
     "output_type": "stream",
     "text": [
      "Epoch 27, Train Loss: 0.1524734606364113, Train Accuracy: 0.9502892999755521, Test Loss: 0.7939507935943766, Test Accuracy: 0.7949804432855281\n"
     ]
    },
    {
     "name": "stderr",
     "output_type": "stream",
     "text": [
      "Epoch 28/80: 100% 767/767 [00:30<00:00, 24.95it/s]\n"
     ]
    },
    {
     "name": "stdout",
     "output_type": "stream",
     "text": [
      "Epoch 28, Train Loss: 0.13505653881667015, Train Accuracy: 0.9554233558797164, Test Loss: 0.8563494616449437, Test Accuracy: 0.7969361147327249\n"
     ]
    },
    {
     "name": "stderr",
     "output_type": "stream",
     "text": [
      "Epoch 29/80: 100% 767/767 [00:30<00:00, 24.95it/s]\n"
     ]
    },
    {
     "name": "stdout",
     "output_type": "stream",
     "text": [
      "Epoch 29, Train Loss: 0.13902405463523357, Train Accuracy: 0.9564012712900334, Test Loss: 0.8309014913371963, Test Accuracy: 0.7871577574967406\n"
     ]
    },
    {
     "name": "stderr",
     "output_type": "stream",
     "text": [
      "Epoch 30/80: 100% 767/767 [00:30<00:00, 24.93it/s]\n"
     ]
    },
    {
     "name": "stdout",
     "output_type": "stream",
     "text": [
      "Epoch 30, Train Loss: 0.1239381034465718, Train Accuracy: 0.959498003422704, Test Loss: 0.8763097617823709, Test Accuracy: 0.7858539765319427\n"
     ]
    },
    {
     "name": "stderr",
     "output_type": "stream",
     "text": [
      "Epoch 31/80: 100% 767/767 [00:32<00:00, 23.90it/s]\n"
     ]
    },
    {
     "name": "stdout",
     "output_type": "stream",
     "text": [
      "Epoch 31, Train Loss: 0.11615370263545434, Train Accuracy: 0.9627577214570939, Test Loss: 0.9101354529866512, Test Accuracy: 0.7855280312907431\n"
     ]
    },
    {
     "name": "stderr",
     "output_type": "stream",
     "text": [
      "Epoch 32/80: 100% 767/767 [00:33<00:00, 22.62it/s]\n"
     ]
    },
    {
     "name": "stdout",
     "output_type": "stream",
     "text": [
      "Epoch 32, Train Loss: 0.1066691277718968, Train Accuracy: 0.9656099747371852, Test Loss: 0.9134086320227652, Test Accuracy: 0.788787483702738\n"
     ]
    },
    {
     "name": "stderr",
     "output_type": "stream",
     "text": [
      "Epoch 33/80: 100% 767/767 [00:33<00:00, 22.81it/s]\n"
     ]
    },
    {
     "name": "stdout",
     "output_type": "stream",
     "text": [
      "Epoch 33, Train Loss: 0.10964253525379583, Train Accuracy: 0.9647135522777279, Test Loss: 0.886325113716642, Test Accuracy: 0.7891134289439374\n"
     ]
    },
    {
     "name": "stderr",
     "output_type": "stream",
     "text": [
      "Epoch 34/80: 100% 767/767 [00:33<00:00, 22.62it/s]\n"
     ]
    },
    {
     "name": "stdout",
     "output_type": "stream",
     "text": [
      "Epoch 34, Train Loss: 0.10525298314190298, Train Accuracy: 0.9647950452285877, Test Loss: 0.8683552750671879, Test Accuracy: 0.7926988265971316\n"
     ]
    },
    {
     "name": "stderr",
     "output_type": "stream",
     "text": [
      "Epoch 35/80: 100% 767/767 [00:33<00:00, 22.59it/s]\n"
     ]
    },
    {
     "name": "stdout",
     "output_type": "stream",
     "text": [
      "Epoch 35, Train Loss: 0.0955632022159894, Train Accuracy: 0.9713959742482275, Test Loss: 0.8599060191712246, Test Accuracy: 0.7904172099087353\n"
     ]
    },
    {
     "name": "stderr",
     "output_type": "stream",
     "text": [
      "Epoch 36/80: 100% 767/767 [00:33<00:00, 22.65it/s]\n"
     ]
    },
    {
     "name": "stdout",
     "output_type": "stream",
     "text": [
      "Epoch 36, Train Loss: 0.08414951048447171, Train Accuracy: 0.9730258332654226, Test Loss: 0.904272938575256, Test Accuracy: 0.7972620599739244\n"
     ]
    },
    {
     "name": "stderr",
     "output_type": "stream",
     "text": [
      "Epoch 37/80: 100% 767/767 [00:32<00:00, 23.63it/s]\n"
     ]
    },
    {
     "name": "stdout",
     "output_type": "stream",
     "text": [
      "Epoch 37, Train Loss: 0.08600364105918322, Train Accuracy: 0.9726998614619835, Test Loss: 0.8957467488896024, Test Accuracy: 0.795632333767927\n"
     ]
    },
    {
     "name": "stderr",
     "output_type": "stream",
     "text": [
      "Epoch 38/80: 100% 767/767 [00:31<00:00, 24.41it/s]\n"
     ]
    },
    {
     "name": "stdout",
     "output_type": "stream",
     "text": [
      "Epoch 38, Train Loss: 0.0772203363023906, Train Accuracy: 0.975470621791215, Test Loss: 0.9936702266271217, Test Accuracy: 0.780638852672751\n"
     ]
    },
    {
     "name": "stderr",
     "output_type": "stream",
     "text": [
      "Epoch 39/80: 100% 767/767 [00:32<00:00, 23.67it/s]\n"
     ]
    },
    {
     "name": "stdout",
     "output_type": "stream",
     "text": [
      "Epoch 39, Train Loss: 0.06908622650236694, Train Accuracy: 0.9782413821204465, Test Loss: 0.9587291650924877, Test Accuracy: 0.803129074315515\n"
     ]
    },
    {
     "name": "stderr",
     "output_type": "stream",
     "text": [
      "Epoch 40/80: 100% 767/767 [00:33<00:00, 23.16it/s]\n"
     ]
    },
    {
     "name": "stdout",
     "output_type": "stream",
     "text": [
      "Epoch 40, Train Loss: 0.07120905007282606, Train Accuracy: 0.9774264526118491, Test Loss: 0.9031227686418409, Test Accuracy: 0.7852020860495437\n"
     ]
    },
    {
     "name": "stderr",
     "output_type": "stream",
     "text": [
      "Epoch 41/80: 100% 767/767 [00:33<00:00, 23.13it/s]\n"
     ]
    },
    {
     "name": "stdout",
     "output_type": "stream",
     "text": [
      "Epoch 41, Train Loss: 0.06824001957423502, Train Accuracy: 0.9786488468747453, Test Loss: 1.0276119178197405, Test Accuracy: 0.780638852672751\n"
     ]
    },
    {
     "name": "stderr",
     "output_type": "stream",
     "text": [
      "Epoch 42/80: 100% 767/767 [00:33<00:00, 22.82it/s]\n"
     ]
    },
    {
     "name": "stdout",
     "output_type": "stream",
     "text": [
      "Epoch 42, Train Loss: 0.0674739944152616, Train Accuracy: 0.9788118327764649, Test Loss: 0.9789270991439025, Test Accuracy: 0.7985658409387223\n"
     ]
    },
    {
     "name": "stderr",
     "output_type": "stream",
     "text": [
      "Epoch 43/80: 100% 767/767 [00:33<00:00, 23.16it/s]\n"
     ]
    },
    {
     "name": "stdout",
     "output_type": "stream",
     "text": [
      "Epoch 43, Train Loss: 0.06691802532654656, Train Accuracy: 0.9786488468747453, Test Loss: 0.9480967544071367, Test Accuracy: 0.7966101694915254\n"
     ]
    },
    {
     "name": "stderr",
     "output_type": "stream",
     "text": [
      "Epoch 44/80: 100% 767/767 [00:31<00:00, 24.00it/s]\n"
     ]
    },
    {
     "name": "stdout",
     "output_type": "stream",
     "text": [
      "Epoch 44, Train Loss: 0.054177145609369405, Train Accuracy: 0.9829679732703122, Test Loss: 1.0121230687761151, Test Accuracy: 0.7936766623207301\n"
     ]
    },
    {
     "name": "stderr",
     "output_type": "stream",
     "text": [
      "Epoch 45/80: 100% 767/767 [00:30<00:00, 24.87it/s]\n"
     ]
    },
    {
     "name": "stdout",
     "output_type": "stream",
     "text": [
      "Epoch 45, Train Loss: 0.0616865869066763, Train Accuracy: 0.9807676635970989, Test Loss: 1.0360480471078215, Test Accuracy: 0.7894393741851369\n"
     ]
    },
    {
     "name": "stderr",
     "output_type": "stream",
     "text": [
      "Epoch 46/80: 100% 767/767 [00:31<00:00, 24.01it/s]\n"
     ]
    },
    {
     "name": "stdout",
     "output_type": "stream",
     "text": [
      "Epoch 46, Train Loss: 0.058680219426297316, Train Accuracy: 0.9808491565479586, Test Loss: 0.9870624754166784, Test Accuracy: 0.7904172099087353\n"
     ]
    },
    {
     "name": "stderr",
     "output_type": "stream",
     "text": [
      "Epoch 47/80: 100% 767/767 [00:31<00:00, 24.51it/s]\n"
     ]
    },
    {
     "name": "stdout",
     "output_type": "stream",
     "text": [
      "Epoch 47, Train Loss: 0.057931311107228475, Train Accuracy: 0.9815825931056964, Test Loss: 0.9717974185364255, Test Accuracy: 0.788787483702738\n"
     ]
    },
    {
     "name": "stderr",
     "output_type": "stream",
     "text": [
      "Epoch 48/80: 100% 767/767 [00:32<00:00, 23.92it/s]\n"
     ]
    },
    {
     "name": "stdout",
     "output_type": "stream",
     "text": [
      "Epoch 48, Train Loss: 0.06229667660632341, Train Accuracy: 0.9801972129410806, Test Loss: 0.8626977785110436, Test Accuracy: 0.7992177314211213\n"
     ]
    },
    {
     "name": "stderr",
     "output_type": "stream",
     "text": [
      "Epoch 49/80: 100% 767/767 [00:31<00:00, 24.64it/s]\n"
     ]
    },
    {
     "name": "stdout",
     "output_type": "stream",
     "text": [
      "Epoch 49, Train Loss: 0.04544247401929046, Train Accuracy: 0.9850867899926656, Test Loss: 0.9894099011013395, Test Accuracy: 0.7995436766623207\n"
     ]
    },
    {
     "name": "stderr",
     "output_type": "stream",
     "text": [
      "Epoch 50/80: 100% 767/767 [00:30<00:00, 24.81it/s]\n"
     ]
    },
    {
     "name": "stdout",
     "output_type": "stream",
     "text": [
      "Epoch 50, Train Loss: 0.05051403948693412, Train Accuracy: 0.9837014098280499, Test Loss: 0.9983157343382724, Test Accuracy: 0.7972620599739244\n"
     ]
    },
    {
     "name": "stderr",
     "output_type": "stream",
     "text": [
      "Epoch 51/80: 100% 767/767 [00:32<00:00, 23.92it/s]\n"
     ]
    },
    {
     "name": "stdout",
     "output_type": "stream",
     "text": [
      "Epoch 51, Train Loss: 0.04679383091724021, Train Accuracy: 0.9839458886806292, Test Loss: 0.949778742074462, Test Accuracy: 0.7985658409387223\n"
     ]
    },
    {
     "name": "stderr",
     "output_type": "stream",
     "text": [
      "Epoch 52/80: 100% 767/767 [00:32<00:00, 23.89it/s]\n"
     ]
    },
    {
     "name": "stdout",
     "output_type": "stream",
     "text": [
      "Epoch 52, Train Loss: 0.04834326248396051, Train Accuracy: 0.9840273816314888, Test Loss: 0.9758530986082405, Test Accuracy: 0.8044328552803129\n"
     ]
    },
    {
     "name": "stderr",
     "output_type": "stream",
     "text": [
      "Epoch 53/80: 100% 767/767 [00:34<00:00, 22.00it/s]\n"
     ]
    },
    {
     "name": "stdout",
     "output_type": "stream",
     "text": [
      "Epoch 53, Train Loss: 0.041669683007996894, Train Accuracy: 0.9861461983538424, Test Loss: 0.9792876931320885, Test Accuracy: 0.8014993481095176\n"
     ]
    },
    {
     "name": "stderr",
     "output_type": "stream",
     "text": [
      "Epoch 54/80: 100% 767/767 [00:35<00:00, 21.33it/s]\n"
     ]
    },
    {
     "name": "stdout",
     "output_type": "stream",
     "text": [
      "Epoch 54, Train Loss: 0.043251605654562264, Train Accuracy: 0.9859017195012632, Test Loss: 0.9935148221211421, Test Accuracy: 0.7917209908735332\n"
     ]
    },
    {
     "name": "stderr",
     "output_type": "stream",
     "text": [
      "Epoch 55/80: 100% 767/767 [00:35<00:00, 21.38it/s]\n"
     ]
    },
    {
     "name": "stdout",
     "output_type": "stream",
     "text": [
      "Epoch 55, Train Loss: 0.03395407481774802, Train Accuracy: 0.9894059163882324, Test Loss: 1.005922789073414, Test Accuracy: 0.8011734028683182\n"
     ]
    },
    {
     "name": "stderr",
     "output_type": "stream",
     "text": [
      "Epoch 56/80: 100% 767/767 [00:35<00:00, 21.45it/s]\n"
     ]
    },
    {
     "name": "stdout",
     "output_type": "stream",
     "text": [
      "Epoch 56, Train Loss: 0.04073681576947895, Train Accuracy: 0.9882650150761959, Test Loss: 1.0371142223060208, Test Accuracy: 0.7913950456323338\n"
     ]
    },
    {
     "name": "stderr",
     "output_type": "stream",
     "text": [
      "Epoch 57/80: 100% 767/767 [00:35<00:00, 21.39it/s]\n"
     ]
    },
    {
     "name": "stdout",
     "output_type": "stream",
     "text": [
      "Epoch 57, Train Loss: 0.034161889487286684, Train Accuracy: 0.9887539727813545, Test Loss: 1.0205224452899226, Test Accuracy: 0.8070404172099087\n"
     ]
    },
    {
     "name": "stderr",
     "output_type": "stream",
     "text": [
      "Epoch 58/80: 100% 767/767 [00:35<00:00, 21.40it/s]\n"
     ]
    },
    {
     "name": "stdout",
     "output_type": "stream",
     "text": [
      "Epoch 58, Train Loss: 0.0395628360278674, Train Accuracy: 0.9871241137641594, Test Loss: 1.0565403415894252, Test Accuracy: 0.7953063885267275\n"
     ]
    },
    {
     "name": "stderr",
     "output_type": "stream",
     "text": [
      "Epoch 59/80: 100% 767/767 [00:34<00:00, 22.28it/s]\n"
     ]
    },
    {
     "name": "stdout",
     "output_type": "stream",
     "text": [
      "Epoch 59, Train Loss: 0.04379915476183693, Train Accuracy: 0.9861461983538424, Test Loss: 0.9911095760453463, Test Accuracy: 0.7949804432855281\n"
     ]
    },
    {
     "name": "stderr",
     "output_type": "stream",
     "text": [
      "Epoch 60/80: 100% 767/767 [00:31<00:00, 24.27it/s]\n"
     ]
    },
    {
     "name": "stdout",
     "output_type": "stream",
     "text": [
      "Epoch 60, Train Loss: 0.03845473529853387, Train Accuracy: 0.9876130714693179, Test Loss: 1.0288055681404178, Test Accuracy: 0.7953063885267275\n"
     ]
    },
    {
     "name": "stderr",
     "output_type": "stream",
     "text": [
      "Epoch 61/80: 100% 767/767 [00:32<00:00, 23.74it/s]\n"
     ]
    },
    {
     "name": "stdout",
     "output_type": "stream",
     "text": [
      "Epoch 61, Train Loss: 0.0374227065525538, Train Accuracy: 0.9884280009779154, Test Loss: 1.0838141246241928, Test Accuracy: 0.7900912646675359\n"
     ]
    },
    {
     "name": "stderr",
     "output_type": "stream",
     "text": [
      "Epoch 62/80: 100% 767/767 [00:32<00:00, 23.82it/s]\n"
     ]
    },
    {
     "name": "stdout",
     "output_type": "stream",
     "text": [
      "Epoch 62, Train Loss: 0.02829188578228702, Train Accuracy: 0.9919321978648847, Test Loss: 1.023867860100798, Test Accuracy: 0.8148631029986962\n"
     ]
    },
    {
     "name": "stderr",
     "output_type": "stream",
     "text": [
      "Epoch 63/80: 100% 767/767 [00:32<00:00, 23.59it/s]\n"
     ]
    },
    {
     "name": "stdout",
     "output_type": "stream",
     "text": [
      "Epoch 63, Train Loss: 0.031779714635083986, Train Accuracy: 0.9893244234373727, Test Loss: 1.0437367008688245, Test Accuracy: 0.7959582790091264\n"
     ]
    },
    {
     "name": "stderr",
     "output_type": "stream",
     "text": [
      "Epoch 64/80: 100% 767/767 [00:32<00:00, 23.62it/s]\n"
     ]
    },
    {
     "name": "stdout",
     "output_type": "stream",
     "text": [
      "Epoch 64, Train Loss: 0.036618764357368286, Train Accuracy: 0.9889169586830739, Test Loss: 1.0153110467846318, Test Accuracy: 0.7969361147327249\n"
     ]
    },
    {
     "name": "stderr",
     "output_type": "stream",
     "text": [
      "Epoch 65/80: 100% 767/767 [00:30<00:00, 24.76it/s]\n"
     ]
    },
    {
     "name": "stdout",
     "output_type": "stream",
     "text": [
      "Epoch 65, Train Loss: 0.032852080038294595, Train Accuracy: 0.9890799445847934, Test Loss: 1.0615328734770249, Test Accuracy: 0.8060625814863103\n"
     ]
    },
    {
     "name": "stderr",
     "output_type": "stream",
     "text": [
      "Epoch 66/80: 100% 767/767 [00:30<00:00, 25.02it/s]\n"
     ]
    },
    {
     "name": "stdout",
     "output_type": "stream",
     "text": [
      "Epoch 66, Train Loss: 0.02770189549018541, Train Accuracy: 0.9910357754054274, Test Loss: 1.04436518932395, Test Accuracy: 0.8005215123859192\n"
     ]
    },
    {
     "name": "stderr",
     "output_type": "stream",
     "text": [
      "Epoch 67/80: 100% 767/767 [00:30<00:00, 24.99it/s]\n"
     ]
    },
    {
     "name": "stdout",
     "output_type": "stream",
     "text": [
      "Epoch 67, Train Loss: 0.028402388277107216, Train Accuracy: 0.9907098036019885, Test Loss: 1.083087399082918, Test Accuracy: 0.8014993481095176\n"
     ]
    },
    {
     "name": "stderr",
     "output_type": "stream",
     "text": [
      "Epoch 68/80: 100% 767/767 [00:30<00:00, 25.00it/s]\n"
     ]
    },
    {
     "name": "stdout",
     "output_type": "stream",
     "text": [
      "Epoch 68, Train Loss: 0.031755112795276055, Train Accuracy: 0.9910357754054274, Test Loss: 1.0379700888467294, Test Accuracy: 0.7936766623207301\n"
     ]
    },
    {
     "name": "stderr",
     "output_type": "stream",
     "text": [
      "Epoch 69/80: 100% 767/767 [00:30<00:00, 25.01it/s]\n"
     ]
    },
    {
     "name": "stdout",
     "output_type": "stream",
     "text": [
      "Epoch 69, Train Loss: 0.027828676050441307, Train Accuracy: 0.9925841414717627, Test Loss: 1.088860817291182, Test Accuracy: 0.7992177314211213\n"
     ]
    },
    {
     "name": "stderr",
     "output_type": "stream",
     "text": [
      "Epoch 70/80: 100% 767/767 [00:30<00:00, 25.01it/s]\n"
     ]
    },
    {
     "name": "stdout",
     "output_type": "stream",
     "text": [
      "Epoch 70, Train Loss: 0.024917122291714187, Train Accuracy: 0.9910357754054274, Test Loss: 1.1279119011396688, Test Accuracy: 0.7975880052151239\n"
     ]
    },
    {
     "name": "stderr",
     "output_type": "stream",
     "text": [
      "Epoch 71/80: 100% 767/767 [00:30<00:00, 25.01it/s]\n"
     ]
    },
    {
     "name": "stdout",
     "output_type": "stream",
     "text": [
      "Epoch 71, Train Loss: 0.030130643031786777, Train Accuracy: 0.9907912965528481, Test Loss: 1.041286781564698, Test Accuracy: 0.8001955671447197\n"
     ]
    },
    {
     "name": "stderr",
     "output_type": "stream",
     "text": [
      "Epoch 72/80: 100% 767/767 [00:30<00:00, 24.99it/s]\n"
     ]
    },
    {
     "name": "stdout",
     "output_type": "stream",
     "text": [
      "Epoch 72, Train Loss: 0.027178240566441636, Train Accuracy: 0.9906283106511287, Test Loss: 1.0167476639956778, Test Accuracy: 0.8014993481095176\n"
     ]
    },
    {
     "name": "stderr",
     "output_type": "stream",
     "text": [
      "Epoch 73/80: 100% 767/767 [00:30<00:00, 25.02it/s]\n"
     ]
    },
    {
     "name": "stdout",
     "output_type": "stream",
     "text": [
      "Epoch 73, Train Loss: 0.02417233880290384, Train Accuracy: 0.9932360850786407, Test Loss: 1.1232198780949147, Test Accuracy: 0.7943285528031291\n"
     ]
    },
    {
     "name": "stderr",
     "output_type": "stream",
     "text": [
      "Epoch 74/80: 100% 767/767 [00:30<00:00, 24.99it/s]\n"
     ]
    },
    {
     "name": "stdout",
     "output_type": "stream",
     "text": [
      "Epoch 74, Train Loss: 0.03432481446825987, Train Accuracy: 0.9896503952408117, Test Loss: 1.048107143381344, Test Accuracy: 0.795632333767927\n"
     ]
    },
    {
     "name": "stderr",
     "output_type": "stream",
     "text": [
      "Epoch 75/80: 100% 767/767 [00:30<00:00, 24.79it/s]\n"
     ]
    },
    {
     "name": "stdout",
     "output_type": "stream",
     "text": [
      "Epoch 75, Train Loss: 0.025184147016291347, Train Accuracy: 0.9928286203243419, Test Loss: 1.0408441534776405, Test Accuracy: 0.8008474576271186\n"
     ]
    },
    {
     "name": "stderr",
     "output_type": "stream",
     "text": [
      "Epoch 76/80: 100% 767/767 [00:31<00:00, 24.38it/s]\n"
     ]
    },
    {
     "name": "stdout",
     "output_type": "stream",
     "text": [
      "Epoch 76, Train Loss: 0.024287500906581754, Train Accuracy: 0.9923396626191835, Test Loss: 1.1721985216260389, Test Accuracy: 0.7936766623207301\n"
     ]
    },
    {
     "name": "stderr",
     "output_type": "stream",
     "text": [
      "Epoch 77/80: 100% 767/767 [00:32<00:00, 23.81it/s]\n"
     ]
    },
    {
     "name": "stdout",
     "output_type": "stream",
     "text": [
      "Epoch 77, Train Loss: 0.02796932335386112, Train Accuracy: 0.9919321978648847, Test Loss: 1.0749489425104268, Test Accuracy: 0.7998696219035202\n"
     ]
    },
    {
     "name": "stderr",
     "output_type": "stream",
     "text": [
      "Epoch 78/80: 100% 767/767 [00:32<00:00, 23.58it/s]\n"
     ]
    },
    {
     "name": "stdout",
     "output_type": "stream",
     "text": [
      "Epoch 78, Train Loss: 0.023837956528727673, Train Accuracy: 0.9931545921277809, Test Loss: 1.1597100146291648, Test Accuracy: 0.7858539765319427\n"
     ]
    },
    {
     "name": "stderr",
     "output_type": "stream",
     "text": [
      "Epoch 79/80: 100% 767/767 [00:31<00:00, 23.99it/s]\n"
     ]
    },
    {
     "name": "stdout",
     "output_type": "stream",
     "text": [
      "Epoch 79, Train Loss: 0.024409176410258616, Train Accuracy: 0.9929101132752017, Test Loss: 1.0414478769818818, Test Accuracy: 0.7995436766623207\n"
     ]
    },
    {
     "name": "stderr",
     "output_type": "stream",
     "text": [
      "Epoch 80/80: 100% 767/767 [00:32<00:00, 23.83it/s]\n"
     ]
    },
    {
     "name": "stdout",
     "output_type": "stream",
     "text": [
      "Epoch 80, Train Loss: 0.025202310481087856, Train Accuracy: 0.9922581696683237, Test Loss: 1.008240808915313, Test Accuracy: 0.8001955671447197\n"
     ]
    }
   ],
   "source": [
    "# Start training\n",
    "for epoch in range(num_epochs):\n",
    "    model.train()\n",
    "    running_loss = 0.0\n",
    "    correct = 0\n",
    "    total = 0\n",
    "\n",
    "    for data in tqdm(train_loader, desc=f\"Epoch {epoch+1}/{num_epochs}\"):\n",
    "        inputs, labels = data[0].to(device), data[1].to(device)\n",
    "        optimizer.zero_grad()\n",
    "        outputs = model(inputs)\n",
    "        loss = criterion(outputs, labels)\n",
    "        loss.backward()\n",
    "        optimizer.step()\n",
    "\n",
    "        running_loss += loss.item()\n",
    "        _, predicted = torch.max(outputs.data, 1)\n",
    "        total += labels.size(0)\n",
    "        correct += (predicted == labels).sum().item()\n",
    "\n",
    "    train_loss = running_loss / len(train_loader)\n",
    "    train_acc = correct / total\n",
    "    train_losses.append(train_loss)\n",
    "    train_accuracies.append(train_acc)\n",
    "\n",
    "    model.eval()\n",
    "    test_running_loss = 0.0\n",
    "    test_correct = 0\n",
    "    test_total = 0\n",
    "    with torch.no_grad():\n",
    "        for data in test_loader:\n",
    "            inputs, labels = data[0].to(device), data[1].to(device)\n",
    "            outputs = model(inputs)\n",
    "            loss = criterion(outputs, labels)\n",
    "            test_running_loss += loss.item()\n",
    "            _, predicted = torch.max(outputs.data, 1)\n",
    "            test_total += labels.size(0)\n",
    "            test_correct += (predicted == labels).sum().item()\n",
    "\n",
    "    test_loss = test_running_loss / len(test_loader)\n",
    "    test_acc = test_correct / test_total\n",
    "    test_losses.append(test_loss)\n",
    "    test_accuracies.append(test_acc)\n",
    "\n",
    "    model.eval()\n",
    "    val_running_loss = 0.0\n",
    "    val_correct = 0\n",
    "    val_total = 0\n",
    "    # with torch.no_grad():\n",
    "    #     for data in val_loader:\n",
    "    #         inputs, labels = data[0].to(device), data[1].to(device)\n",
    "    #         outputs = model(inputs)\n",
    "    #         loss = criterion(outputs, labels)\n",
    "    #         val_running_loss += loss.item()\n",
    "    #         _, predicted = torch.max(outputs.data, 1)\n",
    "    #         val_total += labels.size(0)\n",
    "    #         val_correct += (predicted == labels).sum().item()\n",
    "\n",
    "    # val_loss = val_running_loss / len(val_loader)\n",
    "    # val_acc = val_correct / val_total\n",
    "    # val_losses.append(val_loss)\n",
    "    # val_accuracies.append(val_acc)\n",
    "\n",
    "    print(f\"Epoch {epoch+1}, Train Loss: {train_loss}, Train Accuracy: {train_acc}, Test Loss: {test_loss}, Test Accuracy: {test_acc}\")\n",
    "    epoch_counter += 1\n",
    "    \n",
    "    # if val_acc > best_val_acc:\n",
    "    #     best_val_acc = val_acc\n",
    "    #     patience_counter = 0 \n",
    "    #     torch.save(model.state_dict(), 'best_model.pth')\n",
    "    # else:\n",
    "    #     patience_counter += 1\n",
    "    #     print(f\"No improvement in validation accuracy for {patience_counter} epochs.\")\n",
    "    \n",
    "    # if patience_counter > patience:\n",
    "    #     print(\"Stopping early due to lack of improvement in validation accuracy.\")\n",
    "    #     break"
   ]
  },
  {
   "cell_type": "code",
   "execution_count": 16,
   "id": "cb02330d-4dd6-42c4-a2da-90956eeb9a7d",
   "metadata": {},
   "outputs": [
    {
     "name": "stdout",
     "output_type": "stream",
     "text": [
      "Results saved to 'result_four4all.csv'.\n"
     ]
    }
   ],
   "source": [
    "# Truncate the lists to match the number of epochs\n",
    "train_losses = train_losses[:epoch_counter]\n",
    "test_losses = test_losses[:epoch_counter]\n",
    "train_accuracies = train_accuracies[:epoch_counter]\n",
    "test_accuracies = test_accuracies[:epoch_counter]\n",
    "\n",
    "# Create the DataFrame\n",
    "df = pd.DataFrame({\n",
    "    'Epoch': range(1, epoch_counter + 1),\n",
    "    'Train Loss': train_losses,\n",
    "    'Test Loss': test_losses,\n",
    "    'Train Accuracy': train_accuracies,\n",
    "    'Test Accuracy': test_accuracies,\n",
    "})\n",
    "\n",
    "# Save the DataFrame to a CSV file\n",
    "df.to_csv('result_four4all.csv', index=False)\n",
    "print(\"Results saved to 'result_four4all.csv'.\")"
   ]
  },
  {
   "cell_type": "code",
   "execution_count": 15,
   "id": "7f7ede2c-b87c-46e1-8c35-1f23c2037fd2",
   "metadata": {},
   "outputs": [
    {
     "name": "stdout",
     "output_type": "stream",
     "text": [
      "Epochs: 81\n",
      "Train Losses: 82\n",
      "Test Losses: 82\n",
      "Train Accuracies: 82\n",
      "Test Accuracies: 82\n"
     ]
    }
   ],
   "source": [
    "print(f\"Epochs: {epoch_counter}\")\n",
    "print(f\"Train Losses: {len(train_losses)}\")\n",
    "print(f\"Test Losses: {len(test_losses)}\")\n",
    "print(f\"Train Accuracies: {len(train_accuracies)}\")\n",
    "print(f\"Test Accuracies: {len(test_accuracies)}\")\n"
   ]
  },
  {
   "cell_type": "code",
   "execution_count": 10,
   "id": "ff04390a-6270-4cda-b752-12813f530ae1",
   "metadata": {},
   "outputs": [
    {
     "name": "stdout",
     "output_type": "stream",
     "text": [
      "Model saved as model.h5\n"
     ]
    }
   ],
   "source": [
    "import h5py\n",
    "\n",
    "def save_model_as_h5(model, file_path):\n",
    "    \"\"\"\n",
    "    Save a PyTorch model as an H5 file.\n",
    "\n",
    "    Args:\n",
    "        model (torch.nn.Module): The PyTorch model to save.\n",
    "        file_path (str): Path to save the .h5 file.\n",
    "    \"\"\"\n",
    "    # Convert the model's state_dict to a dictionary of NumPy arrays\n",
    "    model_weights = {k: v.cpu().numpy() for k, v in model.state_dict().items()}\n",
    "\n",
    "    with h5py.File(file_path, 'w') as h5_file:\n",
    "        for key, value in model_weights.items():\n",
    "            h5_file.create_dataset(key, data=value)\n",
    "save_model_as_h5(model, \"model.h5\")\n",
    "print(\"Model saved as model.h5\")"
   ]
  },
  {
   "cell_type": "code",
   "execution_count": 13,
   "id": "d78e42fc-c44e-4b16-9e0a-1c7ea197c47a",
   "metadata": {},
   "outputs": [
    {
     "name": "stdout",
     "output_type": "stream",
     "text": [
      "Collecting scikit-learn\n",
      "  Downloading scikit_learn-1.6.1-cp39-cp39-manylinux_2_17_x86_64.manylinux2014_x86_64.whl.metadata (18 kB)\n",
      "Requirement already satisfied: numpy>=1.19.5 in /usr/local/lib/python3.9/dist-packages (from scikit-learn) (1.26.4)\n",
      "Collecting scipy>=1.6.0 (from scikit-learn)\n",
      "  Downloading scipy-1.13.1-cp39-cp39-manylinux_2_17_x86_64.manylinux2014_x86_64.whl.metadata (60 kB)\n",
      "Collecting joblib>=1.2.0 (from scikit-learn)\n",
      "  Downloading joblib-1.4.2-py3-none-any.whl.metadata (5.4 kB)\n",
      "Collecting threadpoolctl>=3.1.0 (from scikit-learn)\n",
      "  Downloading threadpoolctl-3.5.0-py3-none-any.whl.metadata (13 kB)\n",
      "Downloading scikit_learn-1.6.1-cp39-cp39-manylinux_2_17_x86_64.manylinux2014_x86_64.whl (13.5 MB)\n",
      "\u001b[2K   \u001b[90m━━━━━━━━━━━━━━━━━━━━━━━━━━━━━━━━━━━━━━━━\u001b[0m \u001b[32m13.5/13.5 MB\u001b[0m \u001b[31m100.2 MB/s\u001b[0m eta \u001b[36m0:00:00\u001b[0m\n",
      "\u001b[?25hDownloading joblib-1.4.2-py3-none-any.whl (301 kB)\n",
      "Downloading scipy-1.13.1-cp39-cp39-manylinux_2_17_x86_64.manylinux2014_x86_64.whl (38.6 MB)\n",
      "\u001b[2K   \u001b[90m━━━━━━━━━━━━━━━━━━━━━━━━━━━━━━━━━━━━━━━━\u001b[0m \u001b[32m38.6/38.6 MB\u001b[0m \u001b[31m107.5 MB/s\u001b[0m eta \u001b[36m0:00:00\u001b[0ma \u001b[36m0:00:01\u001b[0m\n",
      "\u001b[?25hDownloading threadpoolctl-3.5.0-py3-none-any.whl (18 kB)\n",
      "Installing collected packages: threadpoolctl, scipy, joblib, scikit-learn\n",
      "Successfully installed joblib-1.4.2 scikit-learn-1.6.1 scipy-1.13.1 threadpoolctl-3.5.0\n",
      "\u001b[33mWARNING: Running pip as the 'root' user can result in broken permissions and conflicting behaviour with the system package manager, possibly rendering your system unusable.It is recommended to use a virtual environment instead: https://pip.pypa.io/warnings/venv. Use the --root-user-action option if you know what you are doing and want to suppress this warning.\u001b[0m\u001b[33m\n",
      "\u001b[0m"
     ]
    }
   ],
   "source": [
    "!pip install scikit-learn"
   ]
  },
  {
   "cell_type": "code",
   "execution_count": 14,
   "id": "280b1784-0273-4f3c-a867-77669bd60892",
   "metadata": {},
   "outputs": [
    {
     "name": "stdout",
     "output_type": "stream",
     "text": [
      "Confusion Matrix:\n",
      " [[ 244   14    6   13   15    8   29]\n",
      " [  12   41    1    4   10    3    3]\n",
      " [   6    2   76   16   19   14   27]\n",
      " [  10    0   20 1062   26    8   59]\n",
      " [   7    2   20   27  361    5   56]\n",
      " [   3    5   11   11    3  120    9]\n",
      " [  11    1   28   35   56    4  545]]\n"
     ]
    },
    {
     "data": {
      "image/png": "[encoded data removed]",
      "text/plain": [
       "<Figure size 640x480 with 2 Axes>"
      ]
     },
     "metadata": {},
     "output_type": "display_data"
    }
   ],
   "source": [
    "import torch\n",
    "import numpy as np\n",
    "from sklearn.metrics import confusion_matrix, ConfusionMatrixDisplay\n",
    "import matplotlib.pyplot as plt\n",
    "\n",
    "# Example: Dummy model outputs and labels\n",
    "y_true = []  # Ground truth labels\n",
    "y_pred = []  # Predicted labels\n",
    "\n",
    "# Simulate predictions for test_loader\n",
    "model.eval()\n",
    "with torch.no_grad():\n",
    "    for inputs, labels in test_loader:\n",
    "        inputs, labels = inputs.to(device), labels.to(device)\n",
    "        outputs = model(inputs)\n",
    "        _, predicted = torch.max(outputs, 1)\n",
    "        \n",
    "        # Append predictions and true labels\n",
    "        y_true.extend(labels.cpu().numpy())\n",
    "        y_pred.extend(predicted.cpu().numpy())\n",
    "\n",
    "# Convert to NumPy arrays\n",
    "y_true = np.array(y_true)\n",
    "y_pred = np.array(y_pred)\n",
    "\n",
    "# Create confusion matrix\n",
    "conf_matrix = confusion_matrix(y_true, y_pred)\n",
    "print(\"Confusion Matrix:\\n\", conf_matrix)\n",
    "\n",
    "# Plot confusion matrix\n",
    "disp = ConfusionMatrixDisplay(confusion_matrix=conf_matrix)\n",
    "disp.plot(cmap=plt.cm.Blues)\n",
    "plt.title(\"Confusion Matrix\")\n",
    "plt.show()\n"
   ]
  },
  {
   "cell_type": "code",
   "execution_count": 18,
   "id": "3f71ec1d-25af-457c-9438-868116e9226d",
   "metadata": {},
   "outputs": [
    {
     "name": "stdout",
     "output_type": "stream",
     "text": [
      "Confusion Matrix (Counts):\n",
      " [[ 245   14    5   10   14    8   33]\n",
      " [  10   43    3    4    6    3    5]\n",
      " [   4    3   82   14   17   11   29]\n",
      " [  12    1   19 1064   26    5   58]\n",
      " [   8    2   16   27  365    7   53]\n",
      " [   7    2   11    9    2  121   10]\n",
      " [  15    1   24   31   55    4  550]]\n",
      "Confusion Matrix (Percentages):\n",
      " [[7.44680851e-01 4.25531915e-02 1.51975684e-02 3.03951368e-02\n",
      "  4.25531915e-02 2.43161094e-02 1.00303951e-01]\n",
      " [1.35135135e-01 5.81081081e-01 4.05405405e-02 5.40540541e-02\n",
      "  8.10810811e-02 4.05405405e-02 6.75675676e-02]\n",
      " [2.50000000e-02 1.87500000e-02 5.12500000e-01 8.75000000e-02\n",
      "  1.06250000e-01 6.87500000e-02 1.81250000e-01]\n",
      " [1.01265823e-02 8.43881857e-04 1.60337553e-02 8.97890295e-01\n",
      "  2.19409283e-02 4.21940928e-03 4.89451477e-02]\n",
      " [1.67364017e-02 4.18410042e-03 3.34728033e-02 5.64853556e-02\n",
      "  7.63598326e-01 1.46443515e-02 1.10878661e-01]\n",
      " [4.32098765e-02 1.23456790e-02 6.79012346e-02 5.55555556e-02\n",
      "  1.23456790e-02 7.46913580e-01 6.17283951e-02]\n",
      " [2.20588235e-02 1.47058824e-03 3.52941176e-02 4.55882353e-02\n",
      "  8.08823529e-02 5.88235294e-03 8.08823529e-01]]\n"
     ]
    },
    {
     "data": {
      "image/png": "[encoded data removed]",
      "text/plain": [
       "<Figure size 640x480 with 2 Axes>"
      ]
     },
     "metadata": {},
     "output_type": "display_data"
    }
   ],
   "source": [
    "import torch\n",
    "import numpy as np\n",
    "from sklearn.metrics import confusion_matrix, ConfusionMatrixDisplay\n",
    "import matplotlib.pyplot as plt\n",
    "\n",
    "# Define label names\n",
    "label_names = [\n",
    "    \"Surprise\", \"Scared\", \"Disgust\", \"Happy\", \"Sad\", \"Angry\", \"Neutral\"\n",
    "]\n",
    "\n",
    "# Example: Dummy model outputs and labels\n",
    "y_true = []  # Ground truth labels\n",
    "y_pred = []  # Predicted labels\n",
    "\n",
    "# Simulate predictions for test_loader\n",
    "model.eval()\n",
    "with torch.no_grad():\n",
    "    for inputs, labels in test_loader:\n",
    "        inputs, labels = inputs.to(device), labels.to(device)\n",
    "        outputs = model(inputs)\n",
    "        _, predicted = torch.max(outputs, 1)\n",
    "        \n",
    "        # Append predictions and true labels\n",
    "        y_true.extend(labels.cpu().numpy())\n",
    "        y_pred.extend(predicted.cpu().numpy())\n",
    "\n",
    "# Convert to NumPy arrays\n",
    "y_true = np.array(y_true)\n",
    "y_pred = np.array(y_pred)\n",
    "\n",
    "# Create confusion matrix\n",
    "conf_matrix = confusion_matrix(y_true, y_pred)\n",
    "print(\"Confusion Matrix (Counts):\\n\", conf_matrix)\n",
    "\n",
    "# Normalize confusion matrix by row (true classes) to get percentages\n",
    "conf_matrix_normalized = conf_matrix.astype('float') / conf_matrix.sum(axis=1, keepdims=True)\n",
    "print(\"Confusion Matrix (Percentages):\\n\", conf_matrix_normalized)\n",
    "\n",
    "# Plot confusion matrix\n",
    "disp = ConfusionMatrixDisplay(confusion_matrix=conf_matrix_normalized, display_labels=label_names)\n",
    "disp.plot(cmap=plt.cm.Blues, values_format=\".2f\")  # Display percentages with 2 decimal places\n",
    "plt.title(\"Confusion Matrix (Percentages)\")\n",
    "plt.show()\n"
   ]
  },
  {
   "cell_type": "code",
   "execution_count": null,
   "id": "ded4785c-5300-4822-aac8-45b8c2b4a775",
   "metadata": {},
   "outputs": [],
   "source": []
  }
 ],
 "metadata": {
  "kernelspec": {
   "display_name": "Python 3 (ipykernel)",
   "language": "python",
   "name": "python3"
  },
  "language_info": {
   "codemirror_mode": {
    "name": "ipython",
    "version": 3
   },
   "file_extension": ".py",
   "mimetype": "text/x-python",
   "name": "python",
   "nbconvert_exporter": "python",
   "pygments_lexer": "ipython3",
   "version": "3.9.20"
  }
 },
 "nbformat": 4,
 "nbformat_minor": 5
}
