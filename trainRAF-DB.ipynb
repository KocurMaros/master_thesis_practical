{
 "cells": [
  {
   "cell_type": "code",
   "execution_count": 1,
   "id": "578dfb08-f0e9-4c8f-a2a7-25d860a043f5",
   "metadata": {},
   "outputs": [
    {
     "name": "stdout",
     "output_type": "stream",
     "text": [
      "CUDA available: True\n",
      "Device count: 1\n",
      "Current device: 0\n",
      "Device name: NVIDIA GeForce RTX 3070\n"
     ]
    }
   ],
   "source": [
    "# Train on RAF-DB\n",
    "import torch\n",
    "print(\"CUDA available:\", torch.cuda.is_available())\n",
    "print(\"Device count:\", torch.cuda.device_count())\n",
    "print(\"Current device:\", torch.cuda.current_device())\n",
    "print(\"Device name:\", torch.cuda.get_device_name(0) if torch.cuda.is_available() else \"None\")\n",
    "torch.cuda.empty_cache()\n"
   ]
  },
  {
   "cell_type": "code",
   "execution_count": 2,
   "id": "44cb9b64-fcce-4d70-8366-38c915ab2228",
   "metadata": {},
   "outputs": [
    {
     "name": "stdout",
     "output_type": "stream",
     "text": [
      "Using cuda device\n",
      "80,238,599 total parameters.\n"
     ]
    }
   ],
   "source": [
    "import torch\n",
    "import pandas as pd\n",
    "import numpy as np\n",
    "from tqdm import tqdm\n",
    "\n",
    "from torch.utils.data import DataLoader\n",
    "from torchvision import transforms\n",
    "import torch.optim as optim\n",
    "import matplotlib.pyplot as plt\n",
    "\n",
    "from approach.ResEmoteNet import ResEmoteNet\n",
    "\n",
    "device = torch.device(\"cuda\" if torch.cuda.is_available() else \"cpu\")\n",
    "print(f\"Using {device} device\")\n",
    "\n",
    "# Transform the dataset\n",
    "transform = transforms.Compose([\n",
    "    transforms.Resize((64, 64)),\n",
    "    transforms.Grayscale(num_output_channels=3),\n",
    "    transforms.RandomHorizontalFlip(),\n",
    "    transforms.ToTensor(),\n",
    "    transforms.Normalize(\n",
    "        mean=[0.485, 0.456, 0.406],\n",
    "        std=[0.229, 0.224, 0.225]\n",
    "    )\n",
    "])\n",
    "# Load the model\n",
    "model = ResEmoteNet()\n",
    "model.to('cuda')\n",
    "# Print the number of parameters\n",
    "total_params = sum(p.numel() for p in model.parameters())\n",
    "print(f'{total_params:,} total parameters.')"
   ]
  },
  {
   "cell_type": "code",
   "execution_count": 3,
   "id": "4e431e27-8524-4267-be4c-ac63e28c4b7d",
   "metadata": {},
   "outputs": [
    {
     "name": "stdout",
     "output_type": "stream",
     "text": [
      "Number of images in train loader: 10271\n",
      "Number of images in val loader: 2000\n",
      "Number of images in test loader: 3068\n",
      "Train batch: Images shape torch.Size([16, 3, 64, 64]), Labels shape torch.Size([16])\n",
      "Train batch: Images shape torch.Size([16, 3, 64, 64]), Labels shape torch.Size([16])\n"
     ]
    }
   ],
   "source": [
    "import os\n",
    "from torch.utils.data import DataLoader, random_split\n",
    "from torchvision import datasets, transforms\n",
    "\n",
    "def load_data(base_dir, batch_size=16, transform=None):\n",
    "    \"\"\"\n",
    "    Function to load train and test datasets and return their DataLoaders.\n",
    "\n",
    "    Args:\n",
    "        base_dir (str): Base directory containing train/test subdirectories.\n",
    "        batch_size (int): Batch size for the DataLoader.\n",
    "        transform (callable, optional): Transformations to apply to the images.\n",
    "\n",
    "    Returns:\n",
    "        tuple: Train DataLoader, Validation DataLoader\n",
    "    \"\"\"\n",
    "    # Define train and test directories\n",
    "    train_dir = os.path.join(base_dir, \"train\")\n",
    "    val_dir = os.path.join(base_dir, \"test\")\n",
    "    \n",
    "    # Use torchvision.datasets.ImageFolder to automatically handle class folders\n",
    "    train_dataset = datasets.ImageFolder(root=train_dir, transform=transform)\n",
    "    test_dataset = datasets.ImageFolder(root=val_dir, transform=transform)\n",
    "    \n",
    "    label_names = train_dataset.classes\n",
    "\n",
    "    # Split train_dataset into training and validation sets\n",
    "    val_size = 2000\n",
    "    train_size = len(train_dataset) - val_size\n",
    "    train_subset, val_subset = random_split(train_dataset, [train_size, val_size])\n",
    "\n",
    "    # DataLoaders\n",
    "    train_loader = DataLoader(train_subset, batch_size=batch_size, shuffle=True)\n",
    "    val_loader = DataLoader(val_subset, batch_size=batch_size, shuffle=False)\n",
    "    test_loader = DataLoader(test_dataset, batch_size=batch_size, shuffle=False)\n",
    "    \n",
    "\n",
    "    # Print dataset sizes\n",
    "    print(f\"Number of images in train loader: {len(train_loader.dataset)}\")\n",
    "    print(f\"Number of images in val loader: {len(val_loader.dataset)}\")\n",
    "    print(f\"Number of images in test loader: {len(test_loader.dataset)}\")\n",
    "\n",
    "    return train_loader, test_loader, val_loader, label_names\n",
    "\n",
    "\n",
    "# Load data\n",
    "base_dir = \"/workspace/RAF-DB\"\n",
    "train_loader, test_loader, val_loader, label_names = load_data(base_dir=base_dir, batch_size=16, transform=transform)\n",
    "\n",
    "# Inspect a batch\n",
    "train_images, train_labels = next(iter(train_loader))\n",
    "print(f\"Train batch: Images shape {train_images.shape}, Labels shape {train_labels.shape}\")\n",
    "\n",
    "test_images, test_labels = next(iter(test_loader))\n",
    "print(f\"Train batch: Images shape {test_images.shape}, Labels shape {test_labels.shape}\")\n"
   ]
  },
  {
   "cell_type": "code",
   "execution_count": 4,
   "id": "5364fb71-0d2c-4e2a-97d4-17843db33ae3",
   "metadata": {},
   "outputs": [],
   "source": [
    "# Hyperparameters\n",
    "criterion = torch.nn.CrossEntropyLoss()\n",
    "optimizer = optim.SGD(model.parameters(), lr=0.001, momentum=0.9, weight_decay=1e-4)\n",
    "\n",
    "patience = 15\n",
    "best_val_acc = 0\n",
    "patience_counter = 0\n",
    "epoch_counter = 0\n",
    "\n",
    "num_epochs = 80\n",
    "\n",
    "train_losses = []\n",
    "val_losses = []\n",
    "train_accuracies = []\n",
    "val_accuracies = []\n",
    "test_losses = []\n",
    "test_accuracies = []"
   ]
  },
  {
   "cell_type": "code",
   "execution_count": 5,
   "id": "071d67c5-4ee3-48f7-b531-9f8761cbf0d9",
   "metadata": {},
   "outputs": [
    {
     "name": "stderr",
     "output_type": "stream",
     "text": [
      "Epoch 1/80: 100% 642/642 [00:31<00:00, 20.48it/s]\n"
     ]
    },
    {
     "name": "stdout",
     "output_type": "stream",
     "text": [
      "Epoch 1, Train Loss: 1.532813707708941, Train Accuracy: 0.42410670820757473, Test Loss: 1.3664868716344547, Test Accuracy: 0.4957627118644068, Val Loss: 1.3867833676338195, Val Accuracy: 0.4795\n"
     ]
    },
    {
     "name": "stderr",
     "output_type": "stream",
     "text": [
      "Epoch 2/80: 100% 642/642 [00:29<00:00, 21.93it/s]\n"
     ]
    },
    {
     "name": "stdout",
     "output_type": "stream",
     "text": [
      "Epoch 2, Train Loss: 1.2718342210273506, Train Accuracy: 0.5350988219258105, Test Loss: 1.1325283832265995, Test Accuracy: 0.6043024771838331, Val Loss: 1.1756518793106079, Val Accuracy: 0.5665\n"
     ]
    },
    {
     "name": "stderr",
     "output_type": "stream",
     "text": [
      "Epoch 3/80: 100% 642/642 [00:29<00:00, 21.94it/s]\n"
     ]
    },
    {
     "name": "stdout",
     "output_type": "stream",
     "text": [
      "Epoch 3, Train Loss: 1.1170151291235213, Train Accuracy: 0.606464803816571, Test Loss: 0.9479122631407032, Test Accuracy: 0.6681877444589309, Val Loss: 0.9675535402297973, Val Accuracy: 0.654\n"
     ]
    },
    {
     "name": "stderr",
     "output_type": "stream",
     "text": [
      "Epoch 4/80: 100% 642/642 [00:29<00:00, 21.92it/s]\n"
     ]
    },
    {
     "name": "stdout",
     "output_type": "stream",
     "text": [
      "Epoch 4, Train Loss: 0.9994401550181559, Train Accuracy: 0.6518352643364813, Test Loss: 0.834141084497484, Test Accuracy: 0.7063233376792699, Val Loss: 0.8743662440776825, Val Accuracy: 0.683\n"
     ]
    },
    {
     "name": "stderr",
     "output_type": "stream",
     "text": [
      "Epoch 5/80: 100% 642/642 [00:29<00:00, 21.94it/s]\n"
     ]
    },
    {
     "name": "stdout",
     "output_type": "stream",
     "text": [
      "Epoch 5, Train Loss: 0.9106834384604036, Train Accuracy: 0.6815305228312725, Test Loss: 0.7871010603654819, Test Accuracy: 0.7196870925684485, Val Loss: 0.82541836810112, Val Accuracy: 0.7065\n"
     ]
    },
    {
     "name": "stderr",
     "output_type": "stream",
     "text": [
      "Epoch 6/80: 100% 642/642 [00:29<00:00, 21.91it/s]\n"
     ]
    },
    {
     "name": "stdout",
     "output_type": "stream",
     "text": [
      "Epoch 6, Train Loss: 0.8425122672152296, Train Accuracy: 0.7041183915879661, Test Loss: 0.7942813976260368, Test Accuracy: 0.7216427640156454, Val Loss: 0.8350027990341187, Val Accuracy: 0.704\n",
      "No improvement in validation accuracy for 1 epochs.\n"
     ]
    },
    {
     "name": "stderr",
     "output_type": "stream",
     "text": [
      "Epoch 7/80: 100% 642/642 [00:29<00:00, 21.89it/s]\n"
     ]
    },
    {
     "name": "stdout",
     "output_type": "stream",
     "text": [
      "Epoch 7, Train Loss: 0.786737477412662, Train Accuracy: 0.7239801382533346, Test Loss: 0.7501014355899921, Test Accuracy: 0.7320730117340287, Val Loss: 0.7777877591848373, Val Accuracy: 0.7295\n"
     ]
    },
    {
     "name": "stderr",
     "output_type": "stream",
     "text": [
      "Epoch 8/80: 100% 642/642 [00:28<00:00, 22.84it/s]\n"
     ]
    },
    {
     "name": "stdout",
     "output_type": "stream",
     "text": [
      "Epoch 8, Train Loss: 0.7360325470288224, Train Accuracy: 0.7432577158991335, Test Loss: 0.728589332458796, Test Accuracy: 0.7392438070404173, Val Loss: 0.7439720726013184, Val Accuracy: 0.7275\n",
      "No improvement in validation accuracy for 1 epochs.\n"
     ]
    },
    {
     "name": "stderr",
     "output_type": "stream",
     "text": [
      "Epoch 9/80: 100% 642/642 [00:28<00:00, 22.79it/s]\n"
     ]
    },
    {
     "name": "stdout",
     "output_type": "stream",
     "text": [
      "Epoch 9, Train Loss: 0.6941829339319672, Train Accuracy: 0.7632168240677636, Test Loss: 0.697181903286643, Test Accuracy: 0.7610821382007823, Val Loss: 0.7276366052627563, Val Accuracy: 0.75\n"
     ]
    },
    {
     "name": "stderr",
     "output_type": "stream",
     "text": [
      "Epoch 10/80: 100% 642/642 [00:28<00:00, 22.80it/s]\n"
     ]
    },
    {
     "name": "stdout",
     "output_type": "stream",
     "text": [
      "Epoch 10, Train Loss: 0.6495118849095526, Train Accuracy: 0.7780157725635284, Test Loss: 0.6966746486511207, Test Accuracy: 0.7649934810951761, Val Loss: 0.7169572069048882, Val Accuracy: 0.7625\n"
     ]
    },
    {
     "name": "stderr",
     "output_type": "stream",
     "text": [
      "Epoch 11/80: 100% 642/642 [00:28<00:00, 22.84it/s]\n"
     ]
    },
    {
     "name": "stdout",
     "output_type": "stream",
     "text": [
      "Epoch 11, Train Loss: 0.6117693777906932, Train Accuracy: 0.7892123454386136, Test Loss: 0.7404657816083878, Test Accuracy: 0.7480443285528031, Val Loss: 0.7424439183473587, Val Accuracy: 0.7415\n",
      "No improvement in validation accuracy for 1 epochs.\n"
     ]
    },
    {
     "name": "stderr",
     "output_type": "stream",
     "text": [
      "Epoch 12/80: 100% 642/642 [00:28<00:00, 22.86it/s]\n"
     ]
    },
    {
     "name": "stdout",
     "output_type": "stream",
     "text": [
      "Epoch 12, Train Loss: 0.5537933671841183, Train Accuracy: 0.8091714536072437, Test Loss: 0.7446163744316436, Test Accuracy: 0.7620599739243807, Val Loss: 0.7451244053840638, Val Accuracy: 0.752\n",
      "No improvement in validation accuracy for 2 epochs.\n"
     ]
    },
    {
     "name": "stderr",
     "output_type": "stream",
     "text": [
      "Epoch 13/80: 100% 642/642 [00:28<00:00, 22.82it/s]\n"
     ]
    },
    {
     "name": "stdout",
     "output_type": "stream",
     "text": [
      "Epoch 13, Train Loss: 0.5256611248275201, Train Accuracy: 0.8191023269399279, Test Loss: 0.7106744601308795, Test Accuracy: 0.7666232073011734, Val Loss: 0.7173434353470802, Val Accuracy: 0.7695\n"
     ]
    },
    {
     "name": "stderr",
     "output_type": "stream",
     "text": [
      "Epoch 14/80: 100% 642/642 [00:28<00:00, 22.84it/s]\n"
     ]
    },
    {
     "name": "stdout",
     "output_type": "stream",
     "text": [
      "Epoch 14, Train Loss: 0.4826799498354534, Train Accuracy: 0.8391587966118197, Test Loss: 0.729602422925988, Test Accuracy: 0.7552151238591917, Val Loss: 0.748733887553215, Val Accuracy: 0.756\n",
      "No improvement in validation accuracy for 1 epochs.\n"
     ]
    },
    {
     "name": "stderr",
     "output_type": "stream",
     "text": [
      "Epoch 15/80: 100% 642/642 [00:27<00:00, 23.00it/s]\n"
     ]
    },
    {
     "name": "stdout",
     "output_type": "stream",
     "text": [
      "Epoch 15, Train Loss: 0.44733459812319165, Train Accuracy: 0.8489923084412423, Test Loss: 0.7033344694524809, Test Accuracy: 0.7685788787483703, Val Loss: 0.7373667742013932, Val Accuracy: 0.7585\n",
      "No improvement in validation accuracy for 2 epochs.\n"
     ]
    },
    {
     "name": "stderr",
     "output_type": "stream",
     "text": [
      "Epoch 16/80: 100% 642/642 [00:28<00:00, 22.81it/s]\n"
     ]
    },
    {
     "name": "stdout",
     "output_type": "stream",
     "text": [
      "Epoch 16, Train Loss: 0.42147113530783453, Train Accuracy: 0.8591179047804498, Test Loss: 0.7080191670412811, Test Accuracy: 0.7734680573663625, Val Loss: 0.7460807118415832, Val Accuracy: 0.774\n"
     ]
    },
    {
     "name": "stderr",
     "output_type": "stream",
     "text": [
      "Epoch 17/80: 100% 642/642 [00:29<00:00, 21.91it/s]\n"
     ]
    },
    {
     "name": "stdout",
     "output_type": "stream",
     "text": [
      "Epoch 17, Train Loss: 0.39078215842143954, Train Accuracy: 0.8701197546490118, Test Loss: 0.7112395781553763, Test Accuracy: 0.7760756192959583, Val Loss: 0.7625177965164185, Val Accuracy: 0.7555\n",
      "No improvement in validation accuracy for 1 epochs.\n"
     ]
    },
    {
     "name": "stderr",
     "output_type": "stream",
     "text": [
      "Epoch 18/80: 100% 642/642 [00:29<00:00, 21.84it/s]\n"
     ]
    },
    {
     "name": "stdout",
     "output_type": "stream",
     "text": [
      "Epoch 18, Train Loss: 0.3555830963350531, Train Accuracy: 0.8813163275240969, Test Loss: 0.7366221890739931, Test Accuracy: 0.7653194263363755, Val Loss: 0.7551510716676713, Val Accuracy: 0.7685\n",
      "No improvement in validation accuracy for 2 epochs.\n"
     ]
    },
    {
     "name": "stderr",
     "output_type": "stream",
     "text": [
      "Epoch 19/80: 100% 642/642 [00:29<00:00, 21.89it/s]\n"
     ]
    },
    {
     "name": "stdout",
     "output_type": "stream",
     "text": [
      "Epoch 19, Train Loss: 0.3433916356089609, Train Accuracy: 0.8846266186349917, Test Loss: 0.7504096462433457, Test Accuracy: 0.7669491525423728, Val Loss: 0.7889467095136642, Val Accuracy: 0.7645\n",
      "No improvement in validation accuracy for 3 epochs.\n"
     ]
    },
    {
     "name": "stderr",
     "output_type": "stream",
     "text": [
      "Epoch 20/80: 100% 642/642 [00:29<00:00, 21.89it/s]\n"
     ]
    },
    {
     "name": "stdout",
     "output_type": "stream",
     "text": [
      "Epoch 20, Train Loss: 0.3099425557356711, Train Accuracy: 0.8973809755622627, Test Loss: 0.7390353958908236, Test Accuracy: 0.7698826597131682, Val Loss: 0.7826273055076599, Val Accuracy: 0.7705\n",
      "No improvement in validation accuracy for 4 epochs.\n"
     ]
    },
    {
     "name": "stderr",
     "output_type": "stream",
     "text": [
      "Epoch 21/80: 100% 642/642 [00:29<00:00, 22.06it/s]\n"
     ]
    },
    {
     "name": "stdout",
     "output_type": "stream",
     "text": [
      "Epoch 21, Train Loss: 0.28019089632409383, Train Accuracy: 0.9063382338623308, Test Loss: 0.800008409580793, Test Accuracy: 0.7822685788787483, Val Loss: 0.8558100293278694, Val Accuracy: 0.7785\n"
     ]
    },
    {
     "name": "stderr",
     "output_type": "stream",
     "text": [
      "Epoch 22/80: 100% 642/642 [00:28<00:00, 22.14it/s]\n"
     ]
    },
    {
     "name": "stdout",
     "output_type": "stream",
     "text": [
      "Epoch 22, Train Loss: 0.2621264914282804, Train Accuracy: 0.91354298510369, Test Loss: 0.7863039098720037, Test Accuracy: 0.7620599739243807, Val Loss: 0.8385363100767136, Val Accuracy: 0.758\n",
      "No improvement in validation accuracy for 1 epochs.\n"
     ]
    },
    {
     "name": "stderr",
     "output_type": "stream",
     "text": [
      "Epoch 23/80: 100% 642/642 [00:28<00:00, 22.90it/s]\n"
     ]
    },
    {
     "name": "stdout",
     "output_type": "stream",
     "text": [
      "Epoch 23, Train Loss: 0.2475951135222368, Train Accuracy: 0.921039820854834, Test Loss: 0.7886805674024041, Test Accuracy: 0.7783572359843546, Val Loss: 0.8698117457032204, Val Accuracy: 0.7635\n",
      "No improvement in validation accuracy for 2 epochs.\n"
     ]
    },
    {
     "name": "stderr",
     "output_type": "stream",
     "text": [
      "Epoch 24/80: 100% 642/642 [00:27<00:00, 23.14it/s]\n"
     ]
    },
    {
     "name": "stdout",
     "output_type": "stream",
     "text": [
      "Epoch 24, Train Loss: 0.22852144473177205, Train Accuracy: 0.9260052575211761, Test Loss: 0.7844855176105435, Test Accuracy: 0.7754237288135594, Val Loss: 0.8568790546059608, Val Accuracy: 0.769\n",
      "No improvement in validation accuracy for 3 epochs.\n"
     ]
    },
    {
     "name": "stderr",
     "output_type": "stream",
     "text": [
      "Epoch 25/80: 100% 642/642 [00:27<00:00, 23.14it/s]\n"
     ]
    },
    {
     "name": "stdout",
     "output_type": "stream",
     "text": [
      "Epoch 25, Train Loss: 0.22653913165579007, Train Accuracy: 0.9246421964755136, Test Loss: 0.8286438422692299, Test Accuracy: 0.7702086049543677, Val Loss: 0.8630885972380639, Val Accuracy: 0.7625\n",
      "No improvement in validation accuracy for 4 epochs.\n"
     ]
    },
    {
     "name": "stderr",
     "output_type": "stream",
     "text": [
      "Epoch 26/80: 100% 642/642 [00:27<00:00, 23.13it/s]\n"
     ]
    },
    {
     "name": "stdout",
     "output_type": "stream",
     "text": [
      "Epoch 26, Train Loss: 0.1972450635358227, Train Accuracy: 0.9361308538603836, Test Loss: 0.871651806891767, Test Accuracy: 0.7705345501955672, Val Loss: 0.9314629830121994, Val Accuracy: 0.7655\n",
      "No improvement in validation accuracy for 5 epochs.\n"
     ]
    },
    {
     "name": "stderr",
     "output_type": "stream",
     "text": [
      "Epoch 27/80: 100% 642/642 [00:27<00:00, 23.14it/s]\n"
     ]
    },
    {
     "name": "stdout",
     "output_type": "stream",
     "text": [
      "Epoch 27, Train Loss: 0.2048325507213997, Train Accuracy: 0.9357414078473372, Test Loss: 0.8201505268073864, Test Accuracy: 0.7842242503259452, Val Loss: 0.8703751500844955, Val Accuracy: 0.7645\n",
      "No improvement in validation accuracy for 6 epochs.\n"
     ]
    },
    {
     "name": "stderr",
     "output_type": "stream",
     "text": [
      "Epoch 28/80: 100% 642/642 [00:28<00:00, 22.50it/s]\n"
     ]
    },
    {
     "name": "stdout",
     "output_type": "stream",
     "text": [
      "Epoch 28, Train Loss: 0.1718486748495055, Train Accuracy: 0.9437250511147892, Test Loss: 0.8208109304552332, Test Accuracy: 0.7803129074315515, Val Loss: 0.8987537925243377, Val Accuracy: 0.7695\n",
      "No improvement in validation accuracy for 7 epochs.\n"
     ]
    },
    {
     "name": "stderr",
     "output_type": "stream",
     "text": [
      "Epoch 29/80: 100% 642/642 [00:28<00:00, 22.39it/s]\n"
     ]
    },
    {
     "name": "stdout",
     "output_type": "stream",
     "text": [
      "Epoch 29, Train Loss: 0.1636794773731932, Train Accuracy: 0.9467432577158992, Test Loss: 0.8753620543067578, Test Accuracy: 0.7747718383311604, Val Loss: 0.9173684725761414, Val Accuracy: 0.7635\n",
      "No improvement in validation accuracy for 8 epochs.\n"
     ]
    },
    {
     "name": "stderr",
     "output_type": "stream",
     "text": [
      "Epoch 30/80: 100% 642/642 [00:28<00:00, 22.83it/s]\n"
     ]
    },
    {
     "name": "stdout",
     "output_type": "stream",
     "text": [
      "Epoch 30, Train Loss: 0.15464825492415352, Train Accuracy: 0.9508324408528868, Test Loss: 0.8339904687763919, Test Accuracy: 0.7865058670143416, Val Loss: 0.9136527588367462, Val Accuracy: 0.773\n",
      "No improvement in validation accuracy for 9 epochs.\n"
     ]
    },
    {
     "name": "stderr",
     "output_type": "stream",
     "text": [
      "Epoch 31/80: 100% 642/642 [00:27<00:00, 23.20it/s]\n"
     ]
    },
    {
     "name": "stdout",
     "output_type": "stream",
     "text": [
      "Epoch 31, Train Loss: 0.1442806617425018, Train Accuracy: 0.95404537046052, Test Loss: 0.8708704380215598, Test Accuracy: 0.7835723598435462, Val Loss: 0.9128142055571079, Val Accuracy: 0.781\n"
     ]
    },
    {
     "name": "stderr",
     "output_type": "stream",
     "text": [
      "Epoch 32/80: 100% 642/642 [00:27<00:00, 23.18it/s]\n"
     ]
    },
    {
     "name": "stdout",
     "output_type": "stream",
     "text": [
      "Epoch 32, Train Loss: 0.1285770242544895, Train Accuracy: 0.9577451075844611, Test Loss: 0.8860153415726776, Test Accuracy: 0.772490221642764, Val Loss: 0.9040778015851975, Val Accuracy: 0.7695\n",
      "No improvement in validation accuracy for 1 epochs.\n"
     ]
    },
    {
     "name": "stderr",
     "output_type": "stream",
     "text": [
      "Epoch 33/80: 100% 642/642 [00:27<00:00, 23.16it/s]\n"
     ]
    },
    {
     "name": "stdout",
     "output_type": "stream",
     "text": [
      "Epoch 33, Train Loss: 0.11653929444666766, Train Accuracy: 0.9632947132703729, Test Loss: 0.9631758028934883, Test Accuracy: 0.7692307692307693, Val Loss: 1.0062788699865342, Val Accuracy: 0.7735\n",
      "No improvement in validation accuracy for 2 epochs.\n"
     ]
    },
    {
     "name": "stderr",
     "output_type": "stream",
     "text": [
      "Epoch 34/80: 100% 642/642 [00:28<00:00, 22.92it/s]\n"
     ]
    },
    {
     "name": "stdout",
     "output_type": "stream",
     "text": [
      "Epoch 34, Train Loss: 0.12003434689944346, Train Accuracy: 0.9593028916366468, Test Loss: 0.9481603090266617, Test Accuracy: 0.7783572359843546, Val Loss: 1.0275169797241688, Val Accuracy: 0.7685\n",
      "No improvement in validation accuracy for 3 epochs.\n"
     ]
    },
    {
     "name": "stderr",
     "output_type": "stream",
     "text": [
      "Epoch 35/80: 100% 642/642 [00:27<00:00, 23.08it/s]\n"
     ]
    },
    {
     "name": "stdout",
     "output_type": "stream",
     "text": [
      "Epoch 35, Train Loss: 0.12144787393800836, Train Accuracy: 0.9603738681725246, Test Loss: 0.9089507829145683, Test Accuracy: 0.7829204693611473, Val Loss: 0.9891955676674843, Val Accuracy: 0.771\n",
      "No improvement in validation accuracy for 4 epochs.\n"
     ]
    },
    {
     "name": "stderr",
     "output_type": "stream",
     "text": [
      "Epoch 36/80: 100% 642/642 [00:27<00:00, 23.11it/s]\n"
     ]
    },
    {
     "name": "stdout",
     "output_type": "stream",
     "text": [
      "Epoch 36, Train Loss: 0.10877751791994798, Train Accuracy: 0.9659234738584364, Test Loss: 0.9082328868836763, Test Accuracy: 0.7812907431551499, Val Loss: 0.9520151754021644, Val Accuracy: 0.781\n",
      "No improvement in validation accuracy for 5 epochs.\n"
     ]
    },
    {
     "name": "stderr",
     "output_type": "stream",
     "text": [
      "Epoch 37/80: 100% 642/642 [00:27<00:00, 23.04it/s]\n"
     ]
    },
    {
     "name": "stdout",
     "output_type": "stream",
     "text": [
      "Epoch 37, Train Loss: 0.09244440667535399, Train Accuracy: 0.9704021030084704, Test Loss: 0.9415935367863616, Test Accuracy: 0.788135593220339, Val Loss: 1.0737315293550491, Val Accuracy: 0.7745\n",
      "No improvement in validation accuracy for 6 epochs.\n"
     ]
    },
    {
     "name": "stderr",
     "output_type": "stream",
     "text": [
      "Epoch 38/80: 100% 642/642 [00:27<00:00, 22.99it/s]\n"
     ]
    },
    {
     "name": "stdout",
     "output_type": "stream",
     "text": [
      "Epoch 38, Train Loss: 0.09767340580257151, Train Accuracy: 0.9693311264725928, Test Loss: 0.9222448156646882, Test Accuracy: 0.7812907431551499, Val Loss: 0.9895240055918694, Val Accuracy: 0.7665\n",
      "No improvement in validation accuracy for 7 epochs.\n"
     ]
    },
    {
     "name": "stderr",
     "output_type": "stream",
     "text": [
      "Epoch 39/80: 100% 642/642 [00:27<00:00, 23.00it/s]\n"
     ]
    },
    {
     "name": "stdout",
     "output_type": "stream",
     "text": [
      "Epoch 39, Train Loss: 0.10118810166557671, Train Accuracy: 0.9668970888910525, Test Loss: 0.9717586934622963, Test Accuracy: 0.7676010430247718, Val Loss: 1.0379912408590317, Val Accuracy: 0.774\n",
      "No improvement in validation accuracy for 8 epochs.\n"
     ]
    },
    {
     "name": "stderr",
     "output_type": "stream",
     "text": [
      "Epoch 40/80: 100% 642/642 [00:28<00:00, 22.33it/s]\n"
     ]
    },
    {
     "name": "stdout",
     "output_type": "stream",
     "text": [
      "Epoch 40, Train Loss: 0.08919680435230413, Train Accuracy: 0.9713757180410866, Test Loss: 0.9681290742751116, Test Accuracy: 0.7773794002607562, Val Loss: 1.012956983923912, Val Accuracy: 0.771\n",
      "No improvement in validation accuracy for 9 epochs.\n"
     ]
    },
    {
     "name": "stderr",
     "output_type": "stream",
     "text": [
      "Epoch 41/80: 100% 642/642 [00:28<00:00, 22.32it/s]\n"
     ]
    },
    {
     "name": "stdout",
     "output_type": "stream",
     "text": [
      "Epoch 41, Train Loss: 0.09686878565706115, Train Accuracy: 0.967773342420407, Test Loss: 0.9369882590938611, Test Accuracy: 0.7760756192959583, Val Loss: 1.013057797729969, Val Accuracy: 0.759\n",
      "No improvement in validation accuracy for 10 epochs.\n"
     ]
    },
    {
     "name": "stderr",
     "output_type": "stream",
     "text": [
      "Epoch 42/80: 100% 642/642 [00:28<00:00, 22.33it/s]\n"
     ]
    },
    {
     "name": "stdout",
     "output_type": "stream",
     "text": [
      "Epoch 42, Train Loss: 0.07460081424501382, Train Accuracy: 0.9780936617661377, Test Loss: 0.9664452635359643, Test Accuracy: 0.7848761408083442, Val Loss: 1.0438050439432263, Val Accuracy: 0.784\n"
     ]
    },
    {
     "name": "stderr",
     "output_type": "stream",
     "text": [
      "Epoch 43/80: 100% 642/642 [00:28<00:00, 22.28it/s]\n"
     ]
    },
    {
     "name": "stdout",
     "output_type": "stream",
     "text": [
      "Epoch 43, Train Loss: 0.06685508696716518, Train Accuracy: 0.979261999805277, Test Loss: 1.0657474341596753, Test Accuracy: 0.7786831812255541, Val Loss: 1.1044881687164307, Val Accuracy: 0.778\n",
      "No improvement in validation accuracy for 1 epochs.\n"
     ]
    },
    {
     "name": "stderr",
     "output_type": "stream",
     "text": [
      "Epoch 44/80: 100% 642/642 [00:28<00:00, 22.26it/s]\n"
     ]
    },
    {
     "name": "stdout",
     "output_type": "stream",
     "text": [
      "Epoch 44, Train Loss: 0.0765459441471623, Train Accuracy: 0.9764385162106903, Test Loss: 1.0325105358374458, Test Accuracy: 0.7744458930899609, Val Loss: 1.0898383612930775, Val Accuracy: 0.7735\n",
      "No improvement in validation accuracy for 2 epochs.\n"
     ]
    },
    {
     "name": "stderr",
     "output_type": "stream",
     "text": [
      "Epoch 45/80: 100% 642/642 [00:28<00:00, 22.21it/s]\n"
     ]
    },
    {
     "name": "stdout",
     "output_type": "stream",
     "text": [
      "Epoch 45, Train Loss: 0.06755318781445303, Train Accuracy: 0.9780936617661377, Test Loss: 1.012549738747926, Test Accuracy: 0.7848761408083442, Val Loss: 1.0975764927864076, Val Accuracy: 0.7845\n"
     ]
    },
    {
     "name": "stderr",
     "output_type": "stream",
     "text": [
      "Epoch 46/80: 100% 642/642 [00:28<00:00, 22.27it/s]\n"
     ]
    },
    {
     "name": "stdout",
     "output_type": "stream",
     "text": [
      "Epoch 46, Train Loss: 0.07454505835424433, Train Accuracy: 0.9769253237269984, Test Loss: 1.022844499795004, Test Accuracy: 0.7855280312907431, Val Loss: 1.1019000674784183, Val Accuracy: 0.77\n",
      "No improvement in validation accuracy for 1 epochs.\n"
     ]
    },
    {
     "name": "stderr",
     "output_type": "stream",
     "text": [
      "Epoch 47/80: 100% 642/642 [00:28<00:00, 22.24it/s]\n"
     ]
    },
    {
     "name": "stdout",
     "output_type": "stream",
     "text": [
      "Epoch 47, Train Loss: 0.06185922437954754, Train Accuracy: 0.9829617369292182, Test Loss: 0.9852316009094011, Test Accuracy: 0.7852020860495437, Val Loss: 1.061461985528469, Val Accuracy: 0.7815\n",
      "No improvement in validation accuracy for 2 epochs.\n"
     ]
    },
    {
     "name": "stderr",
     "output_type": "stream",
     "text": [
      "Epoch 48/80: 100% 642/642 [00:28<00:00, 22.25it/s]\n"
     ]
    },
    {
     "name": "stdout",
     "output_type": "stream",
     "text": [
      "Epoch 48, Train Loss: 0.0669420900724892, Train Accuracy: 0.9783857462759225, Test Loss: 0.9907600095261841, Test Accuracy: 0.7803129074315515, Val Loss: 1.018250404536724, Val Accuracy: 0.777\n",
      "No improvement in validation accuracy for 3 epochs.\n"
     ]
    },
    {
     "name": "stderr",
     "output_type": "stream",
     "text": [
      "Epoch 49/80: 100% 642/642 [00:28<00:00, 22.20it/s]\n"
     ]
    },
    {
     "name": "stdout",
     "output_type": "stream",
     "text": [
      "Epoch 49, Train Loss: 0.05928187974332614, Train Accuracy: 0.9821828449031254, Test Loss: 1.0679655833586519, Test Accuracy: 0.7760756192959583, Val Loss: 1.1451158794164658, Val Accuracy: 0.766\n",
      "No improvement in validation accuracy for 4 epochs.\n"
     ]
    },
    {
     "name": "stderr",
     "output_type": "stream",
     "text": [
      "Epoch 50/80: 100% 642/642 [00:28<00:00, 22.18it/s]\n"
     ]
    },
    {
     "name": "stdout",
     "output_type": "stream",
     "text": [
      "Epoch 50, Train Loss: 0.05417580018082933, Train Accuracy: 0.9823775679096485, Test Loss: 1.0749540800969346, Test Accuracy: 0.7803129074315515, Val Loss: 1.112542517542839, Val Accuracy: 0.7775\n",
      "No improvement in validation accuracy for 5 epochs.\n"
     ]
    },
    {
     "name": "stderr",
     "output_type": "stream",
     "text": [
      "Epoch 51/80: 100% 642/642 [00:28<00:00, 22.19it/s]\n"
     ]
    },
    {
     "name": "stdout",
     "output_type": "stream",
     "text": [
      "Epoch 51, Train Loss: 0.05188831367574899, Train Accuracy: 0.9843247979748807, Test Loss: 1.0123720917354149, Test Accuracy: 0.7933507170795306, Val Loss: 1.1505409951210022, Val Accuracy: 0.7795\n",
      "No improvement in validation accuracy for 6 epochs.\n"
     ]
    },
    {
     "name": "stderr",
     "output_type": "stream",
     "text": [
      "Epoch 52/80: 100% 642/642 [00:28<00:00, 22.33it/s]\n"
     ]
    },
    {
     "name": "stdout",
     "output_type": "stream",
     "text": [
      "Epoch 52, Train Loss: 0.041649643523502346, Train Accuracy: 0.9855904975172817, Test Loss: 1.2207638262583487, Test Accuracy: 0.7786831812255541, Val Loss: 1.183245722413063, Val Accuracy: 0.785\n"
     ]
    },
    {
     "name": "stderr",
     "output_type": "stream",
     "text": [
      "Epoch 53/80: 100% 642/642 [00:28<00:00, 22.23it/s]\n"
     ]
    },
    {
     "name": "stdout",
     "output_type": "stream",
     "text": [
      "Epoch 53, Train Loss: 0.05709935860163271, Train Accuracy: 0.9829617369292182, Test Loss: 0.9456224874498579, Test Accuracy: 0.7861799217731421, Val Loss: 1.0409668498337268, Val Accuracy: 0.7765\n",
      "No improvement in validation accuracy for 1 epochs.\n"
     ]
    },
    {
     "name": "stderr",
     "output_type": "stream",
     "text": [
      "Epoch 54/80: 100% 642/642 [00:28<00:00, 22.26it/s]\n"
     ]
    },
    {
     "name": "stdout",
     "output_type": "stream",
     "text": [
      "Epoch 54, Train Loss: 0.046852943680198926, Train Accuracy: 0.9844221594781424, Test Loss: 1.0614875189595523, Test Accuracy: 0.7940026075619296, Val Loss: 1.136033590003848, Val Accuracy: 0.7805\n",
      "No improvement in validation accuracy for 2 epochs.\n"
     ]
    },
    {
     "name": "stderr",
     "output_type": "stream",
     "text": [
      "Epoch 55/80: 100% 642/642 [00:28<00:00, 22.26it/s]\n"
     ]
    },
    {
     "name": "stdout",
     "output_type": "stream",
     "text": [
      "Epoch 55, Train Loss: 0.047296224167830504, Train Accuracy: 0.9844221594781424, Test Loss: 1.0319947630254471, Test Accuracy: 0.78748370273794, Val Loss: 1.0795764595866204, Val Accuracy: 0.784\n",
      "No improvement in validation accuracy for 3 epochs.\n"
     ]
    },
    {
     "name": "stderr",
     "output_type": "stream",
     "text": [
      "Epoch 56/80: 100% 642/642 [00:28<00:00, 22.21it/s]\n"
     ]
    },
    {
     "name": "stdout",
     "output_type": "stream",
     "text": [
      "Epoch 56, Train Loss: 0.03816259044137851, Train Accuracy: 0.9883166196086067, Test Loss: 1.0561700332398232, Test Accuracy: 0.7819426336375489, Val Loss: 1.1780161854624749, Val Accuracy: 0.7675\n",
      "No improvement in validation accuracy for 4 epochs.\n"
     ]
    },
    {
     "name": "stderr",
     "output_type": "stream",
     "text": [
      "Epoch 57/80: 100% 642/642 [00:28<00:00, 22.18it/s]\n"
     ]
    },
    {
     "name": "stdout",
     "output_type": "stream",
     "text": [
      "Epoch 57, Train Loss: 0.041155311879956684, Train Accuracy: 0.9871482815694674, Test Loss: 1.1798592743201273, Test Accuracy: 0.7757496740547588, Val Loss: 1.2279051154255867, Val Accuracy: 0.7725\n",
      "No improvement in validation accuracy for 5 epochs.\n"
     ]
    },
    {
     "name": "stderr",
     "output_type": "stream",
     "text": [
      "Epoch 58/80: 100% 642/642 [00:29<00:00, 22.03it/s]\n"
     ]
    },
    {
     "name": "stdout",
     "output_type": "stream",
     "text": [
      "Epoch 58, Train Loss: 0.04113579145721084, Train Accuracy: 0.9863693895433745, Test Loss: 1.2046122220249724, Test Accuracy: 0.7803129074315515, Val Loss: 1.2693232247531414, Val Accuracy: 0.7725\n",
      "No improvement in validation accuracy for 6 epochs.\n"
     ]
    },
    {
     "name": "stderr",
     "output_type": "stream",
     "text": [
      "Epoch 59/80: 100% 642/642 [00:29<00:00, 22.07it/s]\n"
     ]
    },
    {
     "name": "stdout",
     "output_type": "stream",
     "text": [
      "Epoch 59, Train Loss: 0.03982550901350111, Train Accuracy: 0.9871482815694674, Test Loss: 1.1547071135148268, Test Accuracy: 0.7780312907431551, Val Loss: 1.212159633245319, Val Accuracy: 0.777\n",
      "No improvement in validation accuracy for 7 epochs.\n"
     ]
    },
    {
     "name": "stderr",
     "output_type": "stream",
     "text": [
      "Epoch 60/80: 100% 642/642 [00:28<00:00, 22.15it/s]\n"
     ]
    },
    {
     "name": "stdout",
     "output_type": "stream",
     "text": [
      "Epoch 60, Train Loss: 0.044679531756441425, Train Accuracy: 0.9871482815694674, Test Loss: 1.0402960905989858, Test Accuracy: 0.7917209908735332, Val Loss: 1.1253314844071864, Val Accuracy: 0.7805\n",
      "No improvement in validation accuracy for 8 epochs.\n"
     ]
    },
    {
     "name": "stderr",
     "output_type": "stream",
     "text": [
      "Epoch 61/80: 100% 642/642 [00:28<00:00, 22.16it/s]\n"
     ]
    },
    {
     "name": "stdout",
     "output_type": "stream",
     "text": [
      "Epoch 61, Train Loss: 0.03850331555180124, Train Accuracy: 0.9881218966020835, Test Loss: 1.0881392445138545, Test Accuracy: 0.7760756192959583, Val Loss: 1.1754711797386408, Val Accuracy: 0.772\n",
      "No improvement in validation accuracy for 9 epochs.\n"
     ]
    },
    {
     "name": "stderr",
     "output_type": "stream",
     "text": [
      "Epoch 62/80: 100% 642/642 [00:28<00:00, 22.14it/s]\n"
     ]
    },
    {
     "name": "stdout",
     "output_type": "stream",
     "text": [
      "Epoch 62, Train Loss: 0.03309949795344278, Train Accuracy: 0.9892902346412229, Test Loss: 1.1574357380413858, Test Accuracy: 0.780638852672751, Val Loss: 1.229611362993717, Val Accuracy: 0.774\n",
      "No improvement in validation accuracy for 10 epochs.\n"
     ]
    },
    {
     "name": "stderr",
     "output_type": "stream",
     "text": [
      "Epoch 63/80: 100% 642/642 [00:28<00:00, 22.25it/s]\n"
     ]
    },
    {
     "name": "stdout",
     "output_type": "stream",
     "text": [
      "Epoch 63, Train Loss: 0.04566759347716048, Train Accuracy: 0.9878298120922987, Test Loss: 1.0087775140990705, Test Accuracy: 0.7940026075619296, Val Loss: 1.10550071567297, Val Accuracy: 0.775\n",
      "No improvement in validation accuracy for 11 epochs.\n"
     ]
    },
    {
     "name": "stderr",
     "output_type": "stream",
     "text": [
      "Epoch 64/80: 100% 642/642 [00:28<00:00, 22.51it/s]\n"
     ]
    },
    {
     "name": "stdout",
     "output_type": "stream",
     "text": [
      "Epoch 64, Train Loss: 0.027833209268994828, Train Accuracy: 0.9915295492162399, Test Loss: 1.0484946687567647, Test Accuracy: 0.8001955671447197, Val Loss: 1.1841793521940709, Val Accuracy: 0.7865\n"
     ]
    },
    {
     "name": "stderr",
     "output_type": "stream",
     "text": [
      "Epoch 65/80: 100% 642/642 [00:28<00:00, 22.45it/s]\n"
     ]
    },
    {
     "name": "stdout",
     "output_type": "stream",
     "text": [
      "Epoch 65, Train Loss: 0.02692997613356005, Train Accuracy: 0.9924058027455944, Test Loss: 1.1446450271985735, Test Accuracy: 0.7861799217731421, Val Loss: 1.2287279927134513, Val Accuracy: 0.7865\n",
      "No improvement in validation accuracy for 1 epochs.\n"
     ]
    },
    {
     "name": "stderr",
     "output_type": "stream",
     "text": [
      "Epoch 66/80: 100% 642/642 [00:28<00:00, 22.45it/s]\n"
     ]
    },
    {
     "name": "stdout",
     "output_type": "stream",
     "text": [
      "Epoch 66, Train Loss: 0.03159779209909458, Train Accuracy: 0.9899717651640542, Test Loss: 1.2029926810158003, Test Accuracy: 0.7812907431551499, Val Loss: 1.2971752151548863, Val Accuracy: 0.7705\n",
      "No improvement in validation accuracy for 2 epochs.\n"
     ]
    },
    {
     "name": "stderr",
     "output_type": "stream",
     "text": [
      "Epoch 67/80: 100% 642/642 [00:28<00:00, 22.43it/s]\n"
     ]
    },
    {
     "name": "stdout",
     "output_type": "stream",
     "text": [
      "Epoch 67, Train Loss: 0.039810922640516146, Train Accuracy: 0.9890955116346997, Test Loss: 1.1232424344607352, Test Accuracy: 0.7803129074315515, Val Loss: 1.1725519022941588, Val Accuracy: 0.7735\n",
      "No improvement in validation accuracy for 3 epochs.\n"
     ]
    },
    {
     "name": "stderr",
     "output_type": "stream",
     "text": [
      "Epoch 68/80: 100% 642/642 [00:28<00:00, 22.42it/s]\n"
     ]
    },
    {
     "name": "stdout",
     "output_type": "stream",
     "text": [
      "Epoch 68, Train Loss: 0.029266647286174906, Train Accuracy: 0.9899717651640542, Test Loss: 1.1842905078450674, Test Accuracy: 0.7842242503259452, Val Loss: 1.253998102284968, Val Accuracy: 0.769\n",
      "No improvement in validation accuracy for 4 epochs.\n"
     ]
    },
    {
     "name": "stderr",
     "output_type": "stream",
     "text": [
      "Epoch 69/80: 100% 642/642 [00:28<00:00, 22.47it/s]\n"
     ]
    },
    {
     "name": "stdout",
     "output_type": "stream",
     "text": [
      "Epoch 69, Train Loss: 0.036770898774561814, Train Accuracy: 0.9865641125498977, Test Loss: 1.2025112332016004, Test Accuracy: 0.7822685788787483, Val Loss: 1.3116436384022236, Val Accuracy: 0.7755\n",
      "No improvement in validation accuracy for 5 epochs.\n"
     ]
    },
    {
     "name": "stderr",
     "output_type": "stream",
     "text": [
      "Epoch 70/80: 100% 642/642 [00:28<00:00, 22.45it/s]\n"
     ]
    },
    {
     "name": "stdout",
     "output_type": "stream",
     "text": [
      "Epoch 70, Train Loss: 0.03920641658222738, Train Accuracy: 0.988998150131438, Test Loss: 1.0733212285834572, Test Accuracy: 0.7835723598435462, Val Loss: 1.1940133360028267, Val Accuracy: 0.7775\n",
      "No improvement in validation accuracy for 6 epochs.\n"
     ]
    },
    {
     "name": "stderr",
     "output_type": "stream",
     "text": [
      "Epoch 71/80: 100% 642/642 [00:28<00:00, 22.83it/s]\n"
     ]
    },
    {
     "name": "stdout",
     "output_type": "stream",
     "text": [
      "Epoch 71, Train Loss: 0.023372407064537772, Train Accuracy: 0.994255671307565, Test Loss: 1.0838418877459237, Test Accuracy: 0.7884615384615384, Val Loss: 1.2293229620829225, Val Accuracy: 0.782\n",
      "No improvement in validation accuracy for 7 epochs.\n"
     ]
    },
    {
     "name": "stderr",
     "output_type": "stream",
     "text": [
      "Epoch 72/80: 100% 642/642 [00:27<00:00, 23.17it/s]\n"
     ]
    },
    {
     "name": "stdout",
     "output_type": "stream",
     "text": [
      "Epoch 72, Train Loss: 0.02402581250866251, Train Accuracy: 0.9931846947716872, Test Loss: 1.1056862731348645, Test Accuracy: 0.7982398956975228, Val Loss: 1.2521931620836257, Val Accuracy: 0.789\n"
     ]
    },
    {
     "name": "stderr",
     "output_type": "stream",
     "text": [
      "Epoch 73/80: 100% 642/642 [00:27<00:00, 23.15it/s]\n"
     ]
    },
    {
     "name": "stdout",
     "output_type": "stream",
     "text": [
      "Epoch 73, Train Loss: 0.02306748296909392, Train Accuracy: 0.9928926102619025, Test Loss: 1.2548001901323953, Test Accuracy: 0.7822685788787483, Val Loss: 1.3116813278198243, Val Accuracy: 0.766\n",
      "No improvement in validation accuracy for 1 epochs.\n"
     ]
    },
    {
     "name": "stderr",
     "output_type": "stream",
     "text": [
      "Epoch 74/80: 100% 642/642 [00:27<00:00, 23.08it/s]\n"
     ]
    },
    {
     "name": "stdout",
     "output_type": "stream",
     "text": [
      "Epoch 74, Train Loss: 0.03311496991743844, Train Accuracy: 0.9895823191510077, Test Loss: 1.1330750056716947, Test Accuracy: 0.771838331160365, Val Loss: 1.226461239039898, Val Accuracy: 0.7835\n",
      "No improvement in validation accuracy for 2 epochs.\n"
     ]
    },
    {
     "name": "stderr",
     "output_type": "stream",
     "text": [
      "Epoch 75/80: 100% 642/642 [00:27<00:00, 23.03it/s]\n"
     ]
    },
    {
     "name": "stdout",
     "output_type": "stream",
     "text": [
      "Epoch 75, Train Loss: 0.03344096968590476, Train Accuracy: 0.9897770421575309, Test Loss: 1.1510530588408632, Test Accuracy: 0.7838983050847458, Val Loss: 1.2439776076972484, Val Accuracy: 0.769\n",
      "No improvement in validation accuracy for 3 epochs.\n"
     ]
    },
    {
     "name": "stderr",
     "output_type": "stream",
     "text": [
      "Epoch 76/80: 100% 642/642 [00:27<00:00, 23.08it/s]\n"
     ]
    },
    {
     "name": "stdout",
     "output_type": "stream",
     "text": [
      "Epoch 76, Train Loss: 0.029939031832253934, Train Accuracy: 0.9906532956868854, Test Loss: 1.1121081434800857, Test Accuracy: 0.7832464146023468, Val Loss: 1.2417537101507188, Val Accuracy: 0.764\n",
      "No improvement in validation accuracy for 4 epochs.\n"
     ]
    },
    {
     "name": "stderr",
     "output_type": "stream",
     "text": [
      "Epoch 77/80: 100% 642/642 [00:28<00:00, 22.27it/s]\n"
     ]
    },
    {
     "name": "stdout",
     "output_type": "stream",
     "text": [
      "Epoch 77, Train Loss: 0.02391448827311081, Train Accuracy: 0.9928926102619025, Test Loss: 1.117230164082694, Test Accuracy: 0.7940026075619296, Val Loss: 1.2431846887916327, Val Accuracy: 0.7895\n"
     ]
    },
    {
     "name": "stderr",
     "output_type": "stream",
     "text": [
      "Epoch 78/80: 100% 642/642 [00:29<00:00, 22.11it/s]\n"
     ]
    },
    {
     "name": "stdout",
     "output_type": "stream",
     "text": [
      "Epoch 78, Train Loss: 0.03250482072410271, Train Accuracy: 0.9905559341836238, Test Loss: 1.177116868050651, Test Accuracy: 0.7777053455019557, Val Loss: 1.2874900223612786, Val Accuracy: 0.774\n",
      "No improvement in validation accuracy for 1 epochs.\n"
     ]
    },
    {
     "name": "stderr",
     "output_type": "stream",
     "text": [
      "Epoch 79/80: 100% 642/642 [00:29<00:00, 22.10it/s]\n"
     ]
    },
    {
     "name": "stdout",
     "output_type": "stream",
     "text": [
      "Epoch 79, Train Loss: 0.02977392112209648, Train Accuracy: 0.9915295492162399, Test Loss: 1.1925852582541363, Test Accuracy: 0.7790091264667536, Val Loss: 1.2856081316322088, Val Accuracy: 0.7735\n",
      "No improvement in validation accuracy for 2 epochs.\n"
     ]
    },
    {
     "name": "stderr",
     "output_type": "stream",
     "text": [
      "Epoch 80/80: 100% 642/642 [00:28<00:00, 22.26it/s]\n"
     ]
    },
    {
     "name": "stdout",
     "output_type": "stream",
     "text": [
      "Epoch 80, Train Loss: 0.017221572111800733, Train Accuracy: 0.995521370849966, Test Loss: 1.1416184582281528, Test Accuracy: 0.7835723598435462, Val Loss: 1.2570164416395129, Val Accuracy: 0.786\n",
      "No improvement in validation accuracy for 3 epochs.\n"
     ]
    }
   ],
   "source": [
    "# Start training\n",
    "for epoch in range(num_epochs):\n",
    "    model.train()\n",
    "    running_loss = 0.0\n",
    "    correct = 0\n",
    "    total = 0\n",
    "\n",
    "    for data in tqdm(train_loader, desc=f\"Epoch {epoch+1}/{num_epochs}\"):\n",
    "        inputs, labels = data[0].to(device), data[1].to(device)\n",
    "        optimizer.zero_grad()\n",
    "        outputs = model(inputs)\n",
    "        loss = criterion(outputs, labels)\n",
    "        loss.backward()\n",
    "        optimizer.step()\n",
    "\n",
    "        running_loss += loss.item()\n",
    "        _, predicted = torch.max(outputs.data, 1)\n",
    "        total += labels.size(0)\n",
    "        correct += (predicted == labels).sum().item()\n",
    "\n",
    "    train_loss = running_loss / len(train_loader)\n",
    "    train_acc = correct / total\n",
    "    train_losses.append(train_loss)\n",
    "    train_accuracies.append(train_acc)\n",
    "\n",
    "    model.eval()\n",
    "    test_running_loss = 0.0\n",
    "    test_correct = 0\n",
    "    test_total = 0\n",
    "    with torch.no_grad():\n",
    "        for data in test_loader:\n",
    "            inputs, labels = data[0].to(device), data[1].to(device)\n",
    "            outputs = model(inputs)\n",
    "            loss = criterion(outputs, labels)\n",
    "            test_running_loss += loss.item()\n",
    "            _, predicted = torch.max(outputs.data, 1)\n",
    "            test_total += labels.size(0)\n",
    "            test_correct += (predicted == labels).sum().item()\n",
    "\n",
    "    test_loss = test_running_loss / len(test_loader)\n",
    "    test_acc = test_correct / test_total\n",
    "    test_losses.append(test_loss)\n",
    "    test_accuracies.append(test_acc)\n",
    "\n",
    "    model.eval()\n",
    "    val_running_loss = 0.0\n",
    "    val_correct = 0\n",
    "    val_total = 0\n",
    "    with torch.no_grad():\n",
    "        for data in val_loader:\n",
    "            inputs, labels = data[0].to(device), data[1].to(device)\n",
    "            outputs = model(inputs)\n",
    "            loss = criterion(outputs, labels)\n",
    "            val_running_loss += loss.item()\n",
    "            _, predicted = torch.max(outputs.data, 1)\n",
    "            val_total += labels.size(0)\n",
    "            val_correct += (predicted == labels).sum().item()\n",
    "\n",
    "    val_loss = val_running_loss / len(val_loader)\n",
    "    val_acc = val_correct / val_total\n",
    "    val_losses.append(val_loss)\n",
    "    val_accuracies.append(val_acc)\n",
    "\n",
    "    print(f\"Epoch {epoch+1}, Train Loss: {train_loss}, Train Accuracy: {train_acc}, Test Loss: {test_loss}, Test Accuracy: {test_acc}, Val Loss: {val_loss}, Val Accuracy: {val_acc}\")\n",
    "    epoch_counter += 1\n",
    "    \n",
    "    if val_acc > best_val_acc:\n",
    "        best_val_acc = val_acc\n",
    "        patience_counter = 0 \n",
    "        torch.save(model.state_dict(), 'best_model_RAF-DB_1.pth')\n",
    "    else:\n",
    "        patience_counter += 1\n",
    "        print(f\"No improvement in validation accuracy for {patience_counter} epochs.\")\n",
    "    \n",
    "    if patience_counter > patience:\n",
    "        print(\"Stopping early due to lack of improvement in validation accuracy.\")\n",
    "        break"
   ]
  },
  {
   "cell_type": "code",
   "execution_count": 6,
   "id": "cb02330d-4dd6-42c4-a2da-90956eeb9a7d",
   "metadata": {},
   "outputs": [
    {
     "name": "stdout",
     "output_type": "stream",
     "text": [
      "Results saved to 'result_four4all.csv'.\n"
     ]
    },
    {
     "data": {
      "image/png": "[encoded data removed]",
      "text/plain": [
       "<Figure size 1000x500 with 1 Axes>"
      ]
     },
     "metadata": {},
     "output_type": "display_data"
    },
    {
     "data": {
      "image/png": "[encoded data removed]",
      "text/plain": [
       "<Figure size 1000x500 with 1 Axes>"
      ]
     },
     "metadata": {},
     "output_type": "display_data"
    }
   ],
   "source": [
    "# Truncate the lists to match the number of epochs\n",
    "train_losses = train_losses[:epoch_counter]\n",
    "test_losses = test_losses[:epoch_counter]\n",
    "val_losses = val_losses[:epoch_counter]\n",
    "train_accuracies = train_accuracies[:epoch_counter]\n",
    "test_accuracies = test_accuracies[:epoch_counter]\n",
    "val_accuracies = val_accuracies[:epoch_counter]\n",
    "\n",
    "# Create the DataFrame\n",
    "df = pd.DataFrame({\n",
    "    'Epoch': range(1, epoch_counter + 1),\n",
    "    'Train Loss': train_losses,\n",
    "    'Test Loss': test_losses,\n",
    "    'Validation Loss': val_losses,\n",
    "    'Train Accuracy': train_accuracies,\n",
    "    'Test Accuracy': test_accuracies,\n",
    "    'Validation Accuracy': val_accuracies\n",
    "})\n",
    "\n",
    "# Save the DataFrame to a CSV file\n",
    "df.to_csv('result_RAF-DB_1.csv', index=False)\n",
    "print(\"Results saved to 'result_four4all.csv'.\")\n",
    "\n",
    "# Plotting losses\n",
    "plt.figure(figsize=(10, 5))\n",
    "plt.plot(df['Epoch'], df['Train Loss'], label='Train Loss')\n",
    "plt.plot(df['Epoch'], df['Test Loss'], label='Test Loss')\n",
    "plt.plot(df['Epoch'], df['Validation Loss'], label='Validation Loss')\n",
    "plt.xlabel('Epoch')\n",
    "plt.ylabel('Loss')\n",
    "plt.title('Loss per Epoch')\n",
    "plt.legend()\n",
    "plt.grid(True)\n",
    "plt.show()\n",
    "\n",
    "# Plotting accuracies\n",
    "plt.figure(figsize=(10, 5))\n",
    "plt.plot(df['Epoch'], df['Train Accuracy'], label='Train Accuracy')\n",
    "plt.plot(df['Epoch'], df['Test Accuracy'], label='Test Accuracy')\n",
    "plt.plot(df['Epoch'], df['Validation Accuracy'], label='Validation Accuracy')\n",
    "plt.xlabel('Epoch')\n",
    "plt.ylabel('Accuracy')\n",
    "plt.title('Accuracy per Epoch')\n",
    "plt.legend()\n",
    "plt.grid(True)\n",
    "plt.show()"
   ]
  },
  {
   "cell_type": "code",
   "execution_count": 8,
   "id": "ff04390a-6270-4cda-b752-12813f530ae1",
   "metadata": {},
   "outputs": [
    {
     "name": "stdout",
     "output_type": "stream",
     "text": [
      "Model saved as modelfer.h5\n"
     ]
    }
   ],
   "source": [
    "import h5py\n",
    "\n",
    "def save_model_as_h5(model, file_path):\n",
    "    \"\"\"\n",
    "    Save a PyTorch model as an H5 file.\n",
    "\n",
    "    Args:\n",
    "        model (torch.nn.Module): The PyTorch model to save.\n",
    "        file_path (str): Path to save the .h5 file.\n",
    "    \"\"\"\n",
    "    # Convert the model's state_dict to a dictionary of NumPy arrays\n",
    "    model_weights = {k: v.cpu().numpy() for k, v in model.state_dict().items()}\n",
    "\n",
    "    with h5py.File(file_path, 'w') as h5_file:\n",
    "        for key, value in model_weights.items():\n",
    "            h5_file.create_dataset(key, data=value)\n",
    "save_model_as_h5(model, \"model_RAF-DB_1.h5\")\n",
    "print(\"Model saved as modelfer.h5\")"
   ]
  },
  {
   "cell_type": "code",
   "execution_count": 9,
   "id": "d78e42fc-c44e-4b16-9e0a-1c7ea197c47a",
   "metadata": {},
   "outputs": [
    {
     "name": "stdout",
     "output_type": "stream",
     "text": [
      "Requirement already satisfied: scikit-learn in /usr/local/lib/python3.9/dist-packages (1.6.1)\n",
      "Requirement already satisfied: numpy>=1.19.5 in /usr/local/lib/python3.9/dist-packages (from scikit-learn) (1.26.4)\n",
      "Requirement already satisfied: scipy>=1.6.0 in /usr/local/lib/python3.9/dist-packages (from scikit-learn) (1.13.1)\n",
      "Requirement already satisfied: joblib>=1.2.0 in /usr/local/lib/python3.9/dist-packages (from scikit-learn) (1.4.2)\n",
      "Requirement already satisfied: threadpoolctl>=3.1.0 in /usr/local/lib/python3.9/dist-packages (from scikit-learn) (3.5.0)\n",
      "\u001b[33mWARNING: Running pip as the 'root' user can result in broken permissions and conflicting behaviour with the system package manager, possibly rendering your system unusable.It is recommended to use a virtual environment instead: https://pip.pypa.io/warnings/venv. Use the --root-user-action option if you know what you are doing and want to suppress this warning.\u001b[0m\u001b[33m\n",
      "\u001b[0m"
     ]
    }
   ],
   "source": [
    "!pip install scikit-learn"
   ]
  },
  {
   "cell_type": "code",
   "execution_count": 10,
   "id": "280b1784-0273-4f3c-a867-77669bd60892",
   "metadata": {},
   "outputs": [
    {
     "name": "stdout",
     "output_type": "stream",
     "text": [
      "Confusion Matrix:\n",
      " [[  96    7   11   20    3   14   11]\n",
      " [  11   58    0   23   32   29    7]\n",
      " [   2    0   39    8    3   11   11]\n",
      " [   5   10    4 1107   31   18   10]\n",
      " [   4   12    0   64  482   79   39]\n",
      " [   3    9    0   64   40  351   11]\n",
      " [   2    0   16   10   20    6  275]]\n"
     ]
    },
    {
     "data": {
      "image/png": "[encoded data removed]",
      "text/plain": [
       "<Figure size 640x480 with 2 Axes>"
      ]
     },
     "metadata": {},
     "output_type": "display_data"
    }
   ],
   "source": [
    "import torch\n",
    "import numpy as np\n",
    "from sklearn.metrics import confusion_matrix, ConfusionMatrixDisplay\n",
    "import matplotlib.pyplot as plt\n",
    "\n",
    "# Example: Dummy model outputs and labels\n",
    "y_true = []  # Ground truth labels\n",
    "y_pred = []  # Predicted labels\n",
    "\n",
    "# Simulate predictions for test_loader\n",
    "model.eval()\n",
    "with torch.no_grad():\n",
    "    for inputs, labels in test_loader:\n",
    "        inputs, labels = inputs.to(device), labels.to(device)\n",
    "        outputs = model(inputs)\n",
    "        _, predicted = torch.max(outputs, 1)\n",
    "        \n",
    "        # Append predictions and true labels\n",
    "        y_true.extend(labels.cpu().numpy())\n",
    "        y_pred.extend(predicted.cpu().numpy())\n",
    "\n",
    "# Convert to NumPy arrays\n",
    "y_true = np.array(y_true)\n",
    "y_pred = np.array(y_pred)\n",
    "\n",
    "# Create confusion matrix\n",
    "conf_matrix = confusion_matrix(y_true, y_pred)\n",
    "print(\"Confusion Matrix:\\n\", conf_matrix)\n",
    "\n",
    "# Plot confusion matrix\n",
    "disp = ConfusionMatrixDisplay(confusion_matrix=conf_matrix)\n",
    "disp.plot(cmap=plt.cm.Blues)\n",
    "plt.title(\"Confusion Matrix RAF-DB\")\n",
    "plt.show()\n"
   ]
  },
  {
   "cell_type": "code",
   "execution_count": 11,
   "id": "3f71ec1d-25af-457c-9438-868116e9226d",
   "metadata": {},
   "outputs": [
    {
     "name": "stdout",
     "output_type": "stream",
     "text": [
      "Confusion Matrix (Counts):\n",
      " [[  94    7   13   24    5   10    9]\n",
      " [  10   55    2   21   33   30    9]\n",
      " [   1    0   40    9    2   10   12]\n",
      " [   7   13    2 1098   37   19    9]\n",
      " [   5   11    1   65  483   78   37]\n",
      " [   2   11    2   53   46  357    7]\n",
      " [   3    0   15   14   26    4  267]]\n",
      "Confusion Matrix (Percentages):\n",
      " [[0.58024691 0.04320988 0.08024691 0.14814815 0.0308642  0.0617284\n",
      "  0.05555556]\n",
      " [0.0625     0.34375    0.0125     0.13125    0.20625    0.1875\n",
      "  0.05625   ]\n",
      " [0.01351351 0.         0.54054054 0.12162162 0.02702703 0.13513514\n",
      "  0.16216216]\n",
      " [0.00590717 0.01097046 0.00168776 0.92658228 0.03122363 0.01603376\n",
      "  0.00759494]\n",
      " [0.00735294 0.01617647 0.00147059 0.09558824 0.71029412 0.11470588\n",
      "  0.05441176]\n",
      " [0.0041841  0.02301255 0.0041841  0.11087866 0.09623431 0.74686192\n",
      "  0.01464435]\n",
      " [0.00911854 0.         0.04559271 0.04255319 0.07902736 0.01215805\n",
      "  0.81155015]]\n"
     ]
    },
    {
     "data": {
      "image/png": "[encoded data removed]",
      "text/plain": [
       "<Figure size 640x480 with 2 Axes>"
      ]
     },
     "metadata": {},
     "output_type": "display_data"
    }
   ],
   "source": [
    "import torch\n",
    "import numpy as np\n",
    "from sklearn.metrics import confusion_matrix, ConfusionMatrixDisplay\n",
    "import matplotlib.pyplot as plt\n",
    "\n",
    "# Example: Dummy model outputs and labels\n",
    "y_true = []  # Ground truth labels\n",
    "y_pred = []  # Predicted labels\n",
    "\n",
    "# Simulate predictions for test_loader\n",
    "model.eval()\n",
    "with torch.no_grad():\n",
    "    for inputs, labels in test_loader:\n",
    "        inputs, labels = inputs.to(device), labels.to(device)\n",
    "        outputs = model(inputs)\n",
    "        _, predicted = torch.max(outputs, 1)\n",
    "        \n",
    "        # Append predictions and true labels\n",
    "        y_true.extend(labels.cpu().numpy())\n",
    "        y_pred.extend(predicted.cpu().numpy())\n",
    "\n",
    "# Convert to NumPy arrays\n",
    "y_true = np.array(y_true)\n",
    "y_pred = np.array(y_pred)\n",
    "\n",
    "# Create confusion matrix\n",
    "conf_matrix = confusion_matrix(y_true, y_pred)\n",
    "print(\"Confusion Matrix (Counts):\\n\", conf_matrix)\n",
    "\n",
    "# Normalize confusion matrix by row (true classes) to get percentages\n",
    "conf_matrix_normalized = conf_matrix.astype('float') / conf_matrix.sum(axis=1, keepdims=True)\n",
    "print(\"Confusion Matrix (Percentages):\\n\", conf_matrix_normalized)\n",
    "\n",
    "# Plot confusion matrix\n",
    "disp = ConfusionMatrixDisplay(confusion_matrix=conf_matrix_normalized, display_labels=label_names)\n",
    "disp.plot(cmap=plt.cm.Blues, values_format=\".2f\")  # Display percentages with 2 decimal places\n",
    "plt.title(\"Confusion Matrix (Percentages)\")\n",
    "plt.show()\n"
   ]
  },
  {
   "cell_type": "code",
   "execution_count": null,
   "id": "ded4785c-5300-4822-aac8-45b8c2b4a775",
   "metadata": {},
   "outputs": [],
   "source": []
  }
 ],
 "metadata": {
  "kernelspec": {
   "display_name": "Python 3 (ipykernel)",
   "language": "python",
   "name": "python3"
  },
  "language_info": {
   "codemirror_mode": {
    "name": "ipython",
    "version": 3
   },
   "file_extension": ".py",
   "mimetype": "text/x-python",
   "name": "python",
   "nbconvert_exporter": "python",
   "pygments_lexer": "ipython3",
   "version": "3.9.20"
  }
 },
 "nbformat": 4,
 "nbformat_minor": 5
}
